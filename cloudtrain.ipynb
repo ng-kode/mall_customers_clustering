{
 "cells": [
  {
   "cell_type": "code",
   "execution_count": 1,
   "metadata": {
    "collapsed": true
   },
   "outputs": [
    {
     "name": "stdout",
     "output_type": "stream",
     "text": [
      "Requirement already satisfied: mxnet in /home/ec2-user/anaconda3/envs/pytorch_p36/lib/python3.6/site-packages (1.4.0.post0)\n",
      "Requirement already satisfied: requests>=2.20.0 in /home/ec2-user/anaconda3/envs/pytorch_p36/lib/python3.6/site-packages (from mxnet) (2.20.1)\n",
      "Collecting numpy<1.15.0,>=1.8.2 (from mxnet)\n",
      "  Using cached https://files.pythonhosted.org/packages/e5/c4/395ebb218053ba44d64935b3729bc88241ec279915e72100c5979db10945/numpy-1.14.6-cp36-cp36m-manylinux1_x86_64.whl\n",
      "Requirement already satisfied: graphviz<0.9.0,>=0.8.1 in /home/ec2-user/anaconda3/envs/pytorch_p36/lib/python3.6/site-packages (from mxnet) (0.8.4)\n",
      "Requirement already satisfied: chardet<3.1.0,>=3.0.2 in /home/ec2-user/anaconda3/envs/pytorch_p36/lib/python3.6/site-packages (from requests>=2.20.0->mxnet) (3.0.4)\n",
      "Requirement already satisfied: idna<2.8,>=2.5 in /home/ec2-user/anaconda3/envs/pytorch_p36/lib/python3.6/site-packages (from requests>=2.20.0->mxnet) (2.6)\n",
      "Requirement already satisfied: certifi>=2017.4.17 in /home/ec2-user/anaconda3/envs/pytorch_p36/lib/python3.6/site-packages (from requests>=2.20.0->mxnet) (2019.3.9)\n",
      "Requirement already satisfied: urllib3<1.25,>=1.21.1 in /home/ec2-user/anaconda3/envs/pytorch_p36/lib/python3.6/site-packages (from requests>=2.20.0->mxnet) (1.23)\n",
      "\u001b[31mfastai 1.0.50.post1 requires nvidia-ml-py3, which is not installed.\u001b[0m\n",
      "\u001b[31mthinc 6.12.1 has requirement msgpack<0.6.0,>=0.5.6, but you'll have msgpack 0.6.0 which is incompatible.\u001b[0m\n",
      "\u001b[31mspacy 2.0.18 has requirement numpy>=1.15.0, but you'll have numpy 1.14.6 which is incompatible.\u001b[0m\n",
      "\u001b[31mfastai 1.0.50.post1 has requirement numpy>=1.15, but you'll have numpy 1.14.6 which is incompatible.\u001b[0m\n",
      "Installing collected packages: numpy\n",
      "  Found existing installation: numpy 1.15.4\n",
      "    Uninstalling numpy-1.15.4:\n",
      "      Successfully uninstalled numpy-1.15.4\n",
      "Successfully installed numpy-1.14.6\n",
      "\u001b[33mYou are using pip version 10.0.1, however version 19.1.1 is available.\n",
      "You should consider upgrading via the 'pip install --upgrade pip' command.\u001b[0m\n"
     ]
    }
   ],
   "source": [
    "bucket = 'arch-ml-bucket-us-east-1'\n",
    "prefix = 'mall_customer'\n",
    "\n",
    "!pip install mxnet\n",
    "\n",
    "# Define IAM role\n",
    "import boto3\n",
    "import re\n",
    "from sagemaker import get_execution_role\n",
    "import os\n",
    "import pandas as pd\n",
    "from sagemaker.amazon.amazon_estimator import get_image_uri\n",
    "import sagemaker\n",
    "from sagemaker.predictor import csv_serializer, json_deserializer\n",
    "import matplotlib.pyplot as plt\n",
    "import mxnet as mx\n",
    "import numpy as np\n",
    "from scipy.spatial.distance import cdist\n",
    "%matplotlib inline"
   ]
  },
  {
   "cell_type": "code",
   "execution_count": 3,
   "metadata": {},
   "outputs": [],
   "source": [
    "role = get_execution_role()"
   ]
  },
  {
   "cell_type": "markdown",
   "metadata": {},
   "source": [
    "# Upload training data to S3"
   ]
  },
  {
   "cell_type": "code",
   "execution_count": 9,
   "metadata": {},
   "outputs": [],
   "source": [
    "def write_to_s3(filename):\n",
    "    with open(filename,'rb') as f: # Read in binary mode\n",
    "        return boto3.Session().resource('s3').Bucket(bucket)\\\n",
    "            .Object(os.path.join(prefix, filename)).upload_fileobj(f)"
   ]
  },
  {
   "cell_type": "code",
   "execution_count": 10,
   "metadata": {},
   "outputs": [],
   "source": [
    "write_to_s3('train.csv')"
   ]
  },
  {
   "cell_type": "markdown",
   "metadata": {},
   "source": [
    "# Train"
   ]
  },
  {
   "cell_type": "code",
   "execution_count": 11,
   "metadata": {},
   "outputs": [],
   "source": [
    "image_name = get_image_uri(boto3.Session().region_name, 'kmeans')"
   ]
  },
  {
   "cell_type": "code",
   "execution_count": 13,
   "metadata": {},
   "outputs": [
    {
     "data": {
      "text/plain": [
       "'382416733822.dkr.ecr.us-east-1.amazonaws.com/kmeans:1'"
      ]
     },
     "execution_count": 13,
     "metadata": {},
     "output_type": "execute_result"
    }
   ],
   "source": [
    "image_name"
   ]
  },
  {
   "cell_type": "code",
   "execution_count": 23,
   "metadata": {},
   "outputs": [
    {
     "name": "stderr",
     "output_type": "stream",
     "text": [
      "INFO:sagemaker:Creating training-job with name: 2-clusters-kmeans-mall-v2-2019-05-08-04-24-53-669\n"
     ]
    },
    {
     "name": "stdout",
     "output_type": "stream",
     "text": [
      "Starting train job for cluster 2\n",
      "Trained Artifacts will be uploaded to s3://arch-ml-bucket-us-east-1/mall_customer/kmeans-mall-v2\n"
     ]
    },
    {
     "name": "stderr",
     "output_type": "stream",
     "text": [
      "INFO:sagemaker:Creating training-job with name: 3-clusters-kmeans-mall-v2-2019-05-08-04-24-54-069\n"
     ]
    },
    {
     "name": "stdout",
     "output_type": "stream",
     "text": [
      "InProgress\n",
      "Starting train job for cluster 3\n",
      "Trained Artifacts will be uploaded to s3://arch-ml-bucket-us-east-1/mall_customer/kmeans-mall-v2\n"
     ]
    },
    {
     "name": "stderr",
     "output_type": "stream",
     "text": [
      "INFO:sagemaker:Creating training-job with name: 4-clusters-kmeans-mall-v2-2019-05-08-04-24-54-491\n"
     ]
    },
    {
     "name": "stdout",
     "output_type": "stream",
     "text": [
      "InProgress\n",
      "Starting train job for cluster 4\n",
      "Trained Artifacts will be uploaded to s3://arch-ml-bucket-us-east-1/mall_customer/kmeans-mall-v2\n"
     ]
    },
    {
     "name": "stderr",
     "output_type": "stream",
     "text": [
      "INFO:sagemaker:Creating training-job with name: 5-clusters-kmeans-mall-v2-2019-05-08-04-24-58-861\n"
     ]
    },
    {
     "name": "stdout",
     "output_type": "stream",
     "text": [
      "InProgress\n",
      "Starting train job for cluster 5\n",
      "Trained Artifacts will be uploaded to s3://arch-ml-bucket-us-east-1/mall_customer/kmeans-mall-v2\n"
     ]
    },
    {
     "name": "stderr",
     "output_type": "stream",
     "text": [
      "INFO:sagemaker:Creating training-job with name: 6-clusters-kmeans-mall-v2-2019-05-08-04-25-00-166\n"
     ]
    },
    {
     "name": "stdout",
     "output_type": "stream",
     "text": [
      "InProgress\n",
      "Starting train job for cluster 6\n",
      "Trained Artifacts will be uploaded to s3://arch-ml-bucket-us-east-1/mall_customer/kmeans-mall-v2\n"
     ]
    },
    {
     "name": "stderr",
     "output_type": "stream",
     "text": [
      "INFO:sagemaker:Creating training-job with name: 7-clusters-kmeans-mall-v2-2019-05-08-04-25-03-736\n"
     ]
    },
    {
     "name": "stdout",
     "output_type": "stream",
     "text": [
      "InProgress\n",
      "Starting train job for cluster 7\n",
      "Trained Artifacts will be uploaded to s3://arch-ml-bucket-us-east-1/mall_customer/kmeans-mall-v2\n"
     ]
    },
    {
     "name": "stderr",
     "output_type": "stream",
     "text": [
      "INFO:sagemaker:Creating training-job with name: 8-clusters-kmeans-mall-v2-2019-05-08-04-25-04-008\n"
     ]
    },
    {
     "name": "stdout",
     "output_type": "stream",
     "text": [
      "InProgress\n",
      "Starting train job for cluster 8\n",
      "Trained Artifacts will be uploaded to s3://arch-ml-bucket-us-east-1/mall_customer/kmeans-mall-v2\n"
     ]
    },
    {
     "name": "stderr",
     "output_type": "stream",
     "text": [
      "INFO:sagemaker:Creating training-job with name: 9-clusters-kmeans-mall-v2-2019-05-08-04-25-07-167\n"
     ]
    },
    {
     "name": "stdout",
     "output_type": "stream",
     "text": [
      "InProgress\n",
      "Starting train job for cluster 9\n",
      "Trained Artifacts will be uploaded to s3://arch-ml-bucket-us-east-1/mall_customer/kmeans-mall-v2\n"
     ]
    },
    {
     "name": "stderr",
     "output_type": "stream",
     "text": [
      "INFO:sagemaker:Creating training-job with name: 10-clusters-kmeans-mall-v2-2019-05-08-04-25-07-701\n"
     ]
    },
    {
     "name": "stdout",
     "output_type": "stream",
     "text": [
      "InProgress\n",
      "Starting train job for cluster 10\n",
      "Trained Artifacts will be uploaded to s3://arch-ml-bucket-us-east-1/mall_customer/kmeans-mall-v2\n"
     ]
    },
    {
     "name": "stderr",
     "output_type": "stream",
     "text": [
      "INFO:sagemaker:Creating training-job with name: 11-clusters-kmeans-mall-v2-2019-05-08-04-25-08-025\n"
     ]
    },
    {
     "name": "stdout",
     "output_type": "stream",
     "text": [
      "InProgress\n",
      "Starting train job for cluster 11\n",
      "Trained Artifacts will be uploaded to s3://arch-ml-bucket-us-east-1/mall_customer/kmeans-mall-v2\n",
      "InProgress\n"
     ]
    }
   ],
   "source": [
    "# Model params\n",
    "feature_dim = 2\n",
    "K = range(2, 12)\n",
    "\n",
    "# Infrastructure parmas\n",
    "INSTANCE_COUNT = 1\n",
    "run_parallel_jobs = True\n",
    "instance_type = 'ml.m4.xlarge'\n",
    "base_job_name = 'kmeans-mall-v2'\n",
    "train_data_path = 's3://{}/{}/{}'.format(bucket, prefix, 'train.csv')\n",
    "\n",
    "job_names = []\n",
    "for k in K:\n",
    "    print('Starting train job for cluster {}'.format(k))\n",
    "    \n",
    "    output_path = 's3://{}/{}/{}'.format(bucket, prefix, base_job_name)\n",
    "    print('Trained Artifacts will be uploaded to {}'.format(output_path))\n",
    "    \n",
    "    b_job_name = '{}-clusters-{}'.format(k, base_job_name)\n",
    "    sess = sagemaker.Session()\n",
    "    estimator = sagemaker.estimator.Estimator(\n",
    "        image_name=image_name,\n",
    "        role=role,\n",
    "        train_instance_count=INSTANCE_COUNT,\n",
    "        train_instance_type=instance_type,\n",
    "        output_path=output_path,\n",
    "        sagemaker_session=sess,\n",
    "        base_job_name=b_job_name,\n",
    "    )\n",
    "    \n",
    "    estimator.set_hyperparameters(k=k, feature_dim=feature_dim)\n",
    "    \n",
    "    training_input_config = sagemaker.session.s3_input(\n",
    "        s3_data=train_data_path, \n",
    "        content_type=\"text/csv;label_size=0\",\n",
    "    )\n",
    "    \n",
    "    # Training instance invoked\n",
    "    estimator.fit(\n",
    "        {'train':training_input_config}, \n",
    "        wait=not(run_parallel_jobs),\n",
    "    )\n",
    "    \n",
    "    # Get Job Status\n",
    "    boto3_sagemaker = boto3.client('sagemaker')\n",
    "    job_name = estimator.latest_training_job.name    \n",
    "    status = boto3_sagemaker.describe_training_job(TrainingJobName=job_name)['TrainingJobStatus']\n",
    "    print(status)\n",
    "    \n",
    "    if not run_parallel_jobs:\n",
    "        try:\n",
    "            boto3_sagemaker.get_waiter('training_job_completed_or_stopped').wait(TrainingJobName=job_name)\n",
    "        finally:\n",
    "            status = boto3_sagemaker.describe_training_job(TrainingJobName=job_name)['TrainingJobStatus']\n",
    "            print(\"Training job ended with status: \" + status)\n",
    "            if status == 'Failed':\n",
    "                message = boto3_sagemaker.describe_training_job(TrainingJobName=job_name)['FailureReason']\n",
    "                print('Training failed with the following error: {}'.format(message))\n",
    "                raise Exception('Training job failed')\n",
    "    \n",
    "    # Return job names for status checking\n",
    "    job_names.append(job_name)"
   ]
  },
  {
   "cell_type": "code",
   "execution_count": 24,
   "metadata": {},
   "outputs": [
    {
     "name": "stdout",
     "output_type": "stream",
     "text": [
      "Training job ended with status: Completed\n",
      "11-clusters-kmeans-mall-v2-2019-05-08-04-25-08-025\n",
      "Training job ended with status: Completed\n",
      "11-clusters-kmeans-mall-v2-2019-05-08-04-25-08-025\n",
      "Training job ended with status: Completed\n",
      "11-clusters-kmeans-mall-v2-2019-05-08-04-25-08-025\n",
      "Training job ended with status: Completed\n",
      "11-clusters-kmeans-mall-v2-2019-05-08-04-25-08-025\n",
      "Training job ended with status: Completed\n",
      "11-clusters-kmeans-mall-v2-2019-05-08-04-25-08-025\n",
      "Training job ended with status: Completed\n",
      "11-clusters-kmeans-mall-v2-2019-05-08-04-25-08-025\n",
      "Training job ended with status: Completed\n",
      "11-clusters-kmeans-mall-v2-2019-05-08-04-25-08-025\n",
      "Training job ended with status: Completed\n",
      "11-clusters-kmeans-mall-v2-2019-05-08-04-25-08-025\n",
      "Training job ended with status: Completed\n",
      "11-clusters-kmeans-mall-v2-2019-05-08-04-25-08-025\n",
      "Training job ended with status: Completed\n",
      "11-clusters-kmeans-mall-v2-2019-05-08-04-25-08-025\n"
     ]
    }
   ],
   "source": [
    "# Print Job Status When Each of Them Is Done\n",
    "while len(job_names):\n",
    "    boto3_sagemaker = boto3.client('sagemaker')\n",
    "    try:\n",
    "        boto3_sagemaker.get_waiter('training_job_completed_or_stopped').wait(TrainingJobName=job_names[0])\n",
    "    finally:\n",
    "        status = boto3_sagemaker.describe_training_job(TrainingJobName=job_name)['TrainingJobStatus']\n",
    "        print(\"Training job ended with status: \" + status)\n",
    "        if status == 'Failed':\n",
    "            message = boto3_sagemaker.describe_training_job(TrainingJobName=job_name)['FailureReason']\n",
    "            print('Training failed with the following error: {}'.format(message))\n",
    "            raise Exception('Training job failed')\n",
    "\n",
    "    print(job_name)\n",
    "\n",
    "    info = boto3_sagemaker.describe_training_job(TrainingJobName=job_name)\n",
    "    job_names.pop(0)"
   ]
  },
  {
   "cell_type": "markdown",
   "metadata": {},
   "source": [
    "# Obtain Artifacts Keys"
   ]
  },
  {
   "cell_type": "code",
   "execution_count": 29,
   "metadata": {},
   "outputs": [],
   "source": [
    "def list_model_keys():\n",
    "    client = boto3.client('s3')\n",
    "    objects = client.list_objects(Bucket=bucket, Prefix=prefix)['Contents']\n",
    "    keys = list(map(lambda x: x['Key'], objects))\n",
    "    \n",
    "    folder_name = '/{}/'.format(base_job_name)\n",
    "    filtered = list(filter(lambda x: folder_name in x, keys))\n",
    "    return filtered"
   ]
  },
  {
   "cell_type": "code",
   "execution_count": 30,
   "metadata": {},
   "outputs": [],
   "source": [
    "import re \n",
    "\n",
    "def cluster_key():\n",
    "    clusters = {}\n",
    "    \n",
    "    for key in list_model_keys():\n",
    "        parent_path = '{}/{}'.format(prefix, base_job_name)        \n",
    "        cluster = re.search('^{}/(.*)-cluster'.format(parent_path), key)\n",
    "        cluster = cluster.group(1)\n",
    "        clusters[cluster] = key\n",
    "        \n",
    "    return clusters"
   ]
  },
  {
   "cell_type": "markdown",
   "metadata": {},
   "source": [
    "# Find Optimal K (No. Of Clusters)"
   ]
  },
  {
   "cell_type": "code",
   "execution_count": 9,
   "metadata": {},
   "outputs": [],
   "source": [
    "# K = range(2, 12)\n",
    "# base_job_name = 'kmeans-mall-v2'\n",
    "\n",
    "def centroids_and_distortions(train_df):\n",
    "    centroids = {}\n",
    "    distortions = []\n",
    "    for k in K:\n",
    "        key = cluster_key()[str(k)]\n",
    "\n",
    "        s3_client = boto3.client('s3')\n",
    "        s3_client.download_file(bucket, key, 'model.tar.gz')\n",
    "\n",
    "        !tar -xvf model.tar.gz                       \n",
    "        kmeans_model=mx.ndarray.load('model_algo-1')\n",
    "        kmeans_numpy = kmeans_model[0].asnumpy()\n",
    "\n",
    "        distortions.append(sum(np.min(cdist(train_df, kmeans_numpy, 'euclidean'), axis=1)) / train_df.shape[0])\n",
    "        centroids[k] = kmeans_numpy\n",
    "    \n",
    "    plt.plot(K, distortions, 'bx-')\n",
    "    plt.xlabel('k')\n",
    "    \n",
    "    return (centroids, distortions)"
   ]
  },
  {
   "cell_type": "code",
   "execution_count": 10,
   "metadata": {},
   "outputs": [
    {
     "name": "stdout",
     "output_type": "stream",
     "text": [
      "state_d3989618-e182-4755-8444-faedd6860883\n",
      "model_algo-1\n",
      "state_0fb9d067-1986-4699-98b0-cf4510d5403d\n",
      "model_algo-1\n",
      "state_ca98644a-ec9e-414e-8c7a-b62919265343\n",
      "model_algo-1\n",
      "model_algo-1\n",
      "state_d89707b7-819b-46a1-af85-fa5a7ab0ecbc\n",
      "model_algo-1\n",
      "state_af6219a4-5611-45c4-a489-702d328e5351\n",
      "model_algo-1\n",
      "state_abc6fc4f-5d87-4b9e-869d-9a63952ca989\n",
      "state_842cd341-36b6-4bde-a404-b7805ce17b52\n",
      "model_algo-1\n",
      "model_algo-1\n",
      "state_d2617333-9323-4861-adf8-c63100158199\n",
      "state_eecda31f-72a2-44a2-99eb-687b29f9ae01\n",
      "model_algo-1\n",
      "state_616fd13f-47b7-4970-b75d-fa1391501167\n",
      "model_algo-1\n"
     ]
    },
    {
     "data": {
      "image/png": "[encoded data removed]",
      "text/plain": [
       "<Figure size 432x288 with 1 Axes>"
      ]
     },
     "metadata": {},
     "output_type": "display_data"
    }
   ],
   "source": [
    "(centroids, distortions) = centroids_and_distortions(pd.read_csv('train.csv'))"
   ]
  },
  {
   "cell_type": "code",
   "execution_count": 11,
   "metadata": {},
   "outputs": [],
   "source": [
    "import pickle\n",
    "\n",
    "with open('centroids.pkl', 'wb') as f:\n",
    "    pickle.dump(obj=centroids, file=f)\n",
    "    \n",
    "with open('distortions.pkl', 'wb') as f:\n",
    "    pickle.dump(obj=distortions, file=f)"
   ]
  },
  {
   "cell_type": "markdown",
   "metadata": {},
   "source": [
    "# Pick Optimal K = 5"
   ]
  },
  {
   "cell_type": "code",
   "execution_count": 12,
   "metadata": {},
   "outputs": [
    {
     "data": {
      "text/plain": [
       "array([[ 0.9531139 ,  1.229772  ],\n",
       "       [-0.25545475,  0.00926963],\n",
       "       [ 1.0116891 , -1.2399268 ],\n",
       "       [-1.3558912 ,  1.1209366 ],\n",
       "       [-1.3140463 , -1.2060565 ]], dtype=float32)"
      ]
     },
     "execution_count": 12,
     "metadata": {},
     "output_type": "execute_result"
    }
   ],
   "source": [
    "centroids[5]"
   ]
  },
  {
   "cell_type": "code",
   "execution_count": 24,
   "metadata": {},
   "outputs": [],
   "source": [
    "with open('centroids.optimal.pkl', 'wb') as f:\n",
    "    pickle.dump(obj=centroids[5], file=f)"
   ]
  },
  {
   "cell_type": "code",
   "execution_count": 39,
   "metadata": {},
   "outputs": [],
   "source": [
    "with open('model_info.optimal.txt', 'w') as f:\n",
    "    f.write(cluster_key()['5'])\n",
    "    f.write('\\n')\n",
    "    f.write('382416733822.dkr.ecr.us-east-1.amazonaws.com/kmeans:1')"
   ]
  },
  {
   "cell_type": "code",
   "execution_count": null,
   "metadata": {},
   "outputs": [],
   "source": [
    "'382416733822.dkr.ecr.us-east-1.amazonaws.com/kmeans:1'"
   ]
  }
 ],
 "metadata": {
  "kernelspec": {
   "display_name": "conda_pytorch_p36",
   "language": "python",
   "name": "conda_pytorch_p36"
  },
  "language_info": {
   "codemirror_mode": {
    "name": "ipython",
    "version": 3
   },
   "file_extension": ".py",
   "mimetype": "text/x-python",
   "name": "python",
   "nbconvert_exporter": "python",
   "pygments_lexer": "ipython3",
   "version": "3.6.5"
  }
 },
 "nbformat": 4,
 "nbformat_minor": 2
}
