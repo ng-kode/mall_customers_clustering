{
 "cells": [
  {
   "cell_type": "code",
   "execution_count": 162,
   "metadata": {},
   "outputs": [],
   "source": [
    "bucket = 'arch-ml-bucket-us-east-1'\n",
    "prefix = 'mall_customer'\n",
    "\n",
    "# Define IAM role\n",
    "import boto3\n",
    "import re\n",
    "from sagemaker import get_execution_role\n",
    "import os\n",
    "import pandas as pd\n",
    "from sagemaker.amazon.amazon_estimator import get_image_uri\n",
    "import sagemaker\n",
    "from sagemaker.predictor import csv_serializer, json_deserializer\n",
    "import matplotlib.pyplot as plt\n",
    "%matplotlib inline"
   ]
  },
  {
   "cell_type": "code",
   "execution_count": null,
   "metadata": {},
   "outputs": [],
   "source": [
    "role = get_execution_role()"
   ]
  },
  {
   "cell_type": "markdown",
   "metadata": {},
   "source": [
    "# Data Preprocessing"
   ]
  },
  {
   "cell_type": "code",
   "execution_count": 38,
   "metadata": {},
   "outputs": [
    {
     "data": {
      "text/html": [
       "<div>\n",
       "<style scoped>\n",
       "    .dataframe tbody tr th:only-of-type {\n",
       "        vertical-align: middle;\n",
       "    }\n",
       "\n",
       "    .dataframe tbody tr th {\n",
       "        vertical-align: top;\n",
       "    }\n",
       "\n",
       "    .dataframe thead th {\n",
       "        text-align: right;\n",
       "    }\n",
       "</style>\n",
       "<table border=\"1\" class=\"dataframe\">\n",
       "  <thead>\n",
       "    <tr style=\"text-align: right;\">\n",
       "      <th></th>\n",
       "      <th>CustomerID</th>\n",
       "      <th>Genre</th>\n",
       "      <th>Age</th>\n",
       "      <th>Annual Income (k$)</th>\n",
       "      <th>Spending Score (1-100)</th>\n",
       "    </tr>\n",
       "  </thead>\n",
       "  <tbody>\n",
       "    <tr>\n",
       "      <th>0</th>\n",
       "      <td>1</td>\n",
       "      <td>Male</td>\n",
       "      <td>19</td>\n",
       "      <td>15</td>\n",
       "      <td>39</td>\n",
       "    </tr>\n",
       "    <tr>\n",
       "      <th>1</th>\n",
       "      <td>2</td>\n",
       "      <td>Male</td>\n",
       "      <td>21</td>\n",
       "      <td>15</td>\n",
       "      <td>81</td>\n",
       "    </tr>\n",
       "    <tr>\n",
       "      <th>2</th>\n",
       "      <td>3</td>\n",
       "      <td>Female</td>\n",
       "      <td>20</td>\n",
       "      <td>16</td>\n",
       "      <td>6</td>\n",
       "    </tr>\n",
       "    <tr>\n",
       "      <th>3</th>\n",
       "      <td>4</td>\n",
       "      <td>Female</td>\n",
       "      <td>23</td>\n",
       "      <td>16</td>\n",
       "      <td>77</td>\n",
       "    </tr>\n",
       "    <tr>\n",
       "      <th>4</th>\n",
       "      <td>5</td>\n",
       "      <td>Female</td>\n",
       "      <td>31</td>\n",
       "      <td>17</td>\n",
       "      <td>40</td>\n",
       "    </tr>\n",
       "  </tbody>\n",
       "</table>\n",
       "</div>"
      ],
      "text/plain": [
       "   CustomerID   Genre  Age  Annual Income (k$)  Spending Score (1-100)\n",
       "0           1    Male   19                  15                      39\n",
       "1           2    Male   21                  15                      81\n",
       "2           3  Female   20                  16                       6\n",
       "3           4  Female   23                  16                      77\n",
       "4           5  Female   31                  17                      40"
      ]
     },
     "execution_count": 38,
     "metadata": {},
     "output_type": "execute_result"
    }
   ],
   "source": [
    "df = pd.read_csv('Mall_Customers.csv')\n",
    "df.head()"
   ]
  },
  {
   "cell_type": "code",
   "execution_count": 39,
   "metadata": {},
   "outputs": [
    {
     "data": {
      "text/plain": [
       "(200, 5)"
      ]
     },
     "execution_count": 39,
     "metadata": {},
     "output_type": "execute_result"
    }
   ],
   "source": [
    "df.shape"
   ]
  },
  {
   "cell_type": "code",
   "execution_count": 40,
   "metadata": {},
   "outputs": [],
   "source": [
    "features = ['Annual Income (k$)', 'Spending Score (1-100)']\n",
    "train_df = df[features]"
   ]
  },
  {
   "cell_type": "code",
   "execution_count": 41,
   "metadata": {},
   "outputs": [],
   "source": [
    "from sklearn.preprocessing import StandardScaler\n",
    "\n",
    "scaler = StandardScaler()\n",
    "train_df = scaler.fit_transform(train_df)\n",
    "train_df = pd.DataFrame(data=train_df, columns=features)\n",
    "train_df = train_df.astype('float32')"
   ]
  },
  {
   "cell_type": "code",
   "execution_count": 42,
   "metadata": {},
   "outputs": [],
   "source": [
    "train_df.to_csv('train.csv', header=False, index=False)"
   ]
  },
  {
   "cell_type": "code",
   "execution_count": 123,
   "metadata": {},
   "outputs": [],
   "source": [
    "# Write Column List\n",
    "\n",
    "with open('feature_list.txt','w') as f:\n",
    "    f.write(','.join(features))"
   ]
  },
  {
   "cell_type": "code",
   "execution_count": 159,
   "metadata": {},
   "outputs": [],
   "source": [
    "import pickle\n",
    "\n",
    "with open('scaler.pkl', 'wb') as f:\n",
    "    pickle.dump(obj=scaler, file=f)    "
   ]
  },
  {
   "cell_type": "markdown",
   "metadata": {},
   "source": [
    "# Upload data to S3"
   ]
  },
  {
   "cell_type": "code",
   "execution_count": 43,
   "metadata": {},
   "outputs": [],
   "source": [
    "def write_to_s3(filename):\n",
    "    with open(filename,'rb') as f: # Read in binary mode\n",
    "        return boto3.Session().resource('s3').Bucket(bucket)\\\n",
    "            .Object(os.path.join(prefix, filename)).upload_fileobj(f)"
   ]
  },
  {
   "cell_type": "code",
   "execution_count": 44,
   "metadata": {},
   "outputs": [],
   "source": [
    "write_to_s3('train.csv')"
   ]
  },
  {
   "cell_type": "markdown",
   "metadata": {},
   "source": [
    "# Train"
   ]
  },
  {
   "cell_type": "code",
   "execution_count": 45,
   "metadata": {},
   "outputs": [],
   "source": [
    "container = get_image_uri(boto3.Session().region_name, 'kmeans')"
   ]
  },
  {
   "cell_type": "code",
   "execution_count": 46,
   "metadata": {},
   "outputs": [
    {
     "data": {
      "text/plain": [
       "'382416733822.dkr.ecr.us-east-1.amazonaws.com/kmeans:1'"
      ]
     },
     "execution_count": 46,
     "metadata": {},
     "output_type": "execute_result"
    }
   ],
   "source": [
    "container"
   ]
  },
  {
   "cell_type": "code",
   "execution_count": 53,
   "metadata": {},
   "outputs": [],
   "source": [
    "sess = sagemaker.Session()\n",
    "output_path = 's3://{}/{}'.format(bucket, prefix)\n",
    "\n",
    "estimator = sagemaker.estimator.Estimator(container,\n",
    "                                       role, \n",
    "                                       train_instance_count=1, \n",
    "                                       train_instance_type='ml.m4.xlarge',\n",
    "                                       output_path=output_path,\n",
    "                                       sagemaker_session=sess,\n",
    "                                       job_name ='kmeans-mall-v1')\n",
    "\n",
    "estimator.set_hyperparameters(k=3, feature_dim=2)"
   ]
  },
  {
   "cell_type": "code",
   "execution_count": 54,
   "metadata": {},
   "outputs": [],
   "source": [
    "s3_data = 's3://{}/{}/{}'.format(bucket, prefix, 'train.csv')\n",
    "training_input_config = sagemaker.session.s3_input(s3_data=s3_data, content_type=\"text/csv;label_size=0\")"
   ]
  },
  {
   "cell_type": "code",
   "execution_count": 55,
   "metadata": {
    "scrolled": true
   },
   "outputs": [
    {
     "name": "stderr",
     "output_type": "stream",
     "text": [
      "INFO:sagemaker:Creating training-job with name: kmeans-mall-v1-2019-05-07-08-37-34-282\n"
     ]
    },
    {
     "name": "stdout",
     "output_type": "stream",
     "text": [
      "2019-05-07 08:37:34 Starting - Starting the training job...\n",
      "2019-05-07 08:37:35 Starting - Launching requested ML instances......\n",
      "2019-05-07 08:38:43 Starting - Preparing the instances for training......\n",
      "2019-05-07 08:39:58 Downloading - Downloading input data\n",
      "2019-05-07 08:39:58 Training - Downloading the training image...\n",
      "2019-05-07 08:40:33 Uploading - Uploading generated training model\n",
      "\u001b[31mDocker entrypoint called with argument(s): train\u001b[0m\n",
      "\u001b[31m[05/07/2019 08:40:29 INFO 140518448154432] Reading default configuration from /opt/amazon/lib/python2.7/site-packages/algorithm/resources/default-input.json: {u'_enable_profiler': u'false', u'_tuning_objective_metric': u'', u'_num_gpus': u'auto', u'local_lloyd_num_trials': u'auto', u'_log_level': u'info', u'_kvstore': u'auto', u'local_lloyd_init_method': u'kmeans++', u'force_dense': u'true', u'epochs': u'1', u'init_method': u'random', u'local_lloyd_tol': u'0.0001', u'local_lloyd_max_iter': u'300', u'_disable_wait_to_read': u'false', u'extra_center_factor': u'auto', u'eval_metrics': u'[\"msd\"]', u'_num_kv_servers': u'1', u'mini_batch_size': u'5000', u'half_life_time_size': u'0', u'_num_slices': u'1'}\u001b[0m\n",
      "\u001b[31m[05/07/2019 08:40:29 INFO 140518448154432] Reading provided configuration from /opt/ml/input/config/hyperparameters.json: {u'feature_dim': u'2', u'k': u'3'}\u001b[0m\n",
      "\u001b[31m[05/07/2019 08:40:29 INFO 140518448154432] Final configuration: {u'k': u'3', u'_enable_profiler': u'false', u'_tuning_objective_metric': u'', u'_num_gpus': u'auto', u'local_lloyd_num_trials': u'auto', u'_log_level': u'info', u'_kvstore': u'auto', u'local_lloyd_init_method': u'kmeans++', u'force_dense': u'true', u'epochs': u'1', u'init_method': u'random', u'feature_dim': u'2', u'local_lloyd_tol': u'0.0001', u'local_lloyd_max_iter': u'300', u'_disable_wait_to_read': u'false', u'extra_center_factor': u'auto', u'eval_metrics': u'[\"msd\"]', u'_num_kv_servers': u'1', u'mini_batch_size': u'5000', u'half_life_time_size': u'0', u'_num_slices': u'1'}\u001b[0m\n",
      "\u001b[31m[05/07/2019 08:40:29 WARNING 140518448154432] Loggers have already been setup.\u001b[0m\n",
      "\u001b[31mProcess 1 is a worker.\u001b[0m\n",
      "\u001b[31m[05/07/2019 08:40:29 INFO 140518448154432] Using default worker.\u001b[0m\n",
      "\u001b[31m[05/07/2019 08:40:29 INFO 140518448154432] Loaded iterator creator application/x-recordio-protobuf for content type ('application/x-recordio-protobuf', '1.0')\u001b[0m\n",
      "\u001b[31m[05/07/2019 08:40:29 INFO 140518448154432] Create Store: local\u001b[0m\n",
      "\u001b[31m[05/07/2019 08:40:29 INFO 140518448154432] nvidia-smi took: 0.0252079963684 secs to identify 0 gpus\u001b[0m\n",
      "\u001b[31m[05/07/2019 08:40:29 INFO 140518448154432] Number of GPUs being used: 0\u001b[0m\n",
      "\u001b[31m[05/07/2019 08:40:29 INFO 140518448154432] Setting up with params: {u'k': u'3', u'_enable_profiler': u'false', u'_tuning_objective_metric': u'', u'_num_gpus': u'auto', u'local_lloyd_num_trials': u'auto', u'_log_level': u'info', u'_kvstore': u'auto', u'local_lloyd_init_method': u'kmeans++', u'force_dense': u'true', u'epochs': u'1', u'init_method': u'random', u'feature_dim': u'2', u'local_lloyd_tol': u'0.0001', u'local_lloyd_max_iter': u'300', u'_disable_wait_to_read': u'false', u'extra_center_factor': u'auto', u'eval_metrics': u'[\"msd\"]', u'_num_kv_servers': u'1', u'mini_batch_size': u'5000', u'half_life_time_size': u'0', u'_num_slices': u'1'}\u001b[0m\n",
      "\u001b[31m[05/07/2019 08:40:29 INFO 140518448154432] Number of GPUs being used: 0\u001b[0m\n",
      "\u001b[31m[05/07/2019 08:40:29 INFO 140518448154432] number of center slices 1\u001b[0m\n",
      "\u001b[31m[05/07/2019 08:40:29 WARNING 140518448154432] Batch size 5000 is bigger than the first batch data. Effective batch size used to initialize is 200\u001b[0m\n",
      "\u001b[31m#metrics {\"Metrics\": {\"Max Batches Seen Between Resets\": {\"count\": 1, \"max\": 1, \"sum\": 1.0, \"min\": 1}, \"Number of Batches Since Last Reset\": {\"count\": 1, \"max\": 1, \"sum\": 1.0, \"min\": 1}, \"Number of Records Since Last Reset\": {\"count\": 1, \"max\": 200, \"sum\": 200.0, \"min\": 200}, \"Total Batches Seen\": {\"count\": 1, \"max\": 1, \"sum\": 1.0, \"min\": 1}, \"Total Records Seen\": {\"count\": 1, \"max\": 200, \"sum\": 200.0, \"min\": 200}, \"Max Records Seen Between Resets\": {\"count\": 1, \"max\": 200, \"sum\": 200.0, \"min\": 200}, \"Reset Count\": {\"count\": 1, \"max\": 0, \"sum\": 0.0, \"min\": 0}}, \"EndTime\": 1557218429.634064, \"Dimensions\": {\"Host\": \"algo-1\", \"Meta\": \"init_train_data_iter\", \"Operation\": \"training\", \"Algorithm\": \"AWS/KMeansWebscale\"}, \"StartTime\": 1557218429.634027}\n",
      "\u001b[0m\n",
      "\u001b[31m[05/07/2019 08:40:29 INFO 140518448154432] processed a total of 200 examples\u001b[0m\n",
      "\u001b[31m[05/07/2019 08:40:29 INFO 140518448154432] #progress_metric: host=algo-1, completed 100 % of epochs\u001b[0m\n",
      "\u001b[31m#metrics {\"Metrics\": {\"Max Batches Seen Between Resets\": {\"count\": 1, \"max\": 1, \"sum\": 1.0, \"min\": 1}, \"Number of Batches Since Last Reset\": {\"count\": 1, \"max\": 1, \"sum\": 1.0, \"min\": 1}, \"Number of Records Since Last Reset\": {\"count\": 1, \"max\": 200, \"sum\": 200.0, \"min\": 200}, \"Total Batches Seen\": {\"count\": 1, \"max\": 2, \"sum\": 2.0, \"min\": 2}, \"Total Records Seen\": {\"count\": 1, \"max\": 400, \"sum\": 400.0, \"min\": 400}, \"Max Records Seen Between Resets\": {\"count\": 1, \"max\": 200, \"sum\": 200.0, \"min\": 200}, \"Reset Count\": {\"count\": 1, \"max\": 1, \"sum\": 1.0, \"min\": 1}}, \"EndTime\": 1557218429.661652, \"Dimensions\": {\"Host\": \"algo-1\", \"Meta\": \"training_data_iter\", \"Operation\": \"training\", \"Algorithm\": \"AWS/KMeansWebscale\", \"epoch\": 0}, \"StartTime\": 1557218429.634254}\n",
      "\u001b[0m\n",
      "\u001b[31m[05/07/2019 08:40:29 INFO 140518448154432] #throughput_metric: host=algo-1, train throughput=7187.81210906 records/second\u001b[0m\n",
      "\u001b[31m[05/07/2019 08:40:29 WARNING 140518448154432] wait_for_all_workers will not sync workers since the kv store is not running distributed\u001b[0m\n",
      "\u001b[31m[05/07/2019 08:40:29 INFO 140518448154432] shrinking 30 centers into 3\u001b[0m\n",
      "\u001b[31m[05/07/2019 08:40:29 INFO 140518448154432] local kmeans attempt #0. Current mean square distance 0.829888\u001b[0m\n",
      "\u001b[31m[05/07/2019 08:40:29 INFO 140518448154432] local kmeans attempt #1. Current mean square distance 0.829888\u001b[0m\n",
      "\u001b[31m[05/07/2019 08:40:29 INFO 140518448154432] local kmeans attempt #2. Current mean square distance 0.750435\u001b[0m\n",
      "\u001b[31m[05/07/2019 08:40:29 INFO 140518448154432] local kmeans attempt #3. Current mean square distance 0.750435\u001b[0m\n",
      "\u001b[31m[05/07/2019 08:40:29 INFO 140518448154432] local kmeans attempt #4. Current mean square distance 0.750435\u001b[0m\n",
      "\u001b[31m[05/07/2019 08:40:29 INFO 140518448154432] local kmeans attempt #5. Current mean square distance 1.119704\u001b[0m\n",
      "\u001b[31m[05/07/2019 08:40:29 INFO 140518448154432] local kmeans attempt #6. Current mean square distance 0.750435\u001b[0m\n",
      "\u001b[31m[05/07/2019 08:40:29 INFO 140518448154432] local kmeans attempt #7. Current mean square distance 0.750435\u001b[0m\n",
      "\u001b[31m[05/07/2019 08:40:29 INFO 140518448154432] local kmeans attempt #8. Current mean square distance 0.829888\u001b[0m\n",
      "\u001b[31m[05/07/2019 08:40:29 INFO 140518448154432] local kmeans attempt #9. Current mean square distance 0.912457\u001b[0m\n",
      "\u001b[31m[05/07/2019 08:40:29 INFO 140518448154432] finished shrinking process. Mean Square Distance = 1\u001b[0m\n",
      "\u001b[31m[05/07/2019 08:40:29 INFO 140518448154432] #quality_metric: host=algo-1, train msd <loss>=0.750435352325\u001b[0m\n",
      "\u001b[31m[05/07/2019 08:40:29 INFO 140518448154432] compute all data-center distances: inner product took: 24.5114%, (0.008394 secs)\u001b[0m\n",
      "\u001b[31m[05/07/2019 08:40:29 INFO 140518448154432] collect from kv store took: 22.7563%, (0.007793 secs)\u001b[0m\n",
      "\u001b[31m[05/07/2019 08:40:29 INFO 140518448154432] splitting centers key-value pair took: 22.4151%, (0.007676 secs)\u001b[0m\n",
      "\u001b[31m[05/07/2019 08:40:29 INFO 140518448154432] compute all data-center distances: point norm took: 6.9851%, (0.002392 secs)\u001b[0m\n",
      "\u001b[31m[05/07/2019 08:40:29 INFO 140518448154432] batch data loading with context took: 6.2144%, (0.002128 secs)\u001b[0m\n",
      "\u001b[31m[05/07/2019 08:40:29 INFO 140518448154432] gradient: one_hot took: 5.9045%, (0.002022 secs)\u001b[0m\n",
      "\u001b[31m[05/07/2019 08:40:29 INFO 140518448154432] gradient: cluster center took: 5.1394%, (0.001760 secs)\u001b[0m\n",
      "\u001b[31m[05/07/2019 08:40:29 INFO 140518448154432] predict compute msd took: 2.7535%, (0.000943 secs)\u001b[0m\n",
      "\u001b[31m[05/07/2019 08:40:29 INFO 140518448154432] update state and report convergance took: 1.5741%, (0.000539 secs)\u001b[0m\n",
      "\u001b[31m[05/07/2019 08:40:29 INFO 140518448154432] gradient: cluster size  took: 0.5813%, (0.000199 secs)\u001b[0m\n",
      "\u001b[31m[05/07/2019 08:40:29 INFO 140518448154432] update set-up time took: 0.5779%, (0.000198 secs)\u001b[0m\n",
      "\u001b[31m[05/07/2019 08:40:29 INFO 140518448154432] compute all data-center distances: center norm took: 0.5256%, (0.000180 secs)\u001b[0m\n",
      "\u001b[31m[05/07/2019 08:40:29 INFO 140518448154432] predict minus dist took: 0.0613%, (0.000021 secs)\u001b[0m\n",
      "\u001b[31m[05/07/2019 08:40:29 INFO 140518448154432] TOTAL took: 0.0342452526093\u001b[0m\n",
      "\u001b[31m[05/07/2019 08:40:29 INFO 140518448154432] Number of GPUs being used: 0\u001b[0m\n",
      "\u001b[31m#metrics {\"Metrics\": {\"finalize.time\": {\"count\": 1, \"max\": 180.81998825073242, \"sum\": 180.81998825073242, \"min\": 180.81998825073242}, \"initialize.time\": {\"count\": 1, \"max\": 34.15513038635254, \"sum\": 34.15513038635254, \"min\": 34.15513038635254}, \"model.serialize.time\": {\"count\": 1, \"max\": 0.15306472778320312, \"sum\": 0.15306472778320312, \"min\": 0.15306472778320312}, \"update.time\": {\"count\": 1, \"max\": 27.193069458007812, \"sum\": 27.193069458007812, \"min\": 27.193069458007812}, \"epochs\": {\"count\": 1, \"max\": 1, \"sum\": 1.0, \"min\": 1}, \"state.serialize.time\": {\"count\": 1, \"max\": 1.753091812133789, \"sum\": 1.753091812133789, \"min\": 1.753091812133789}, \"_shrink.time\": {\"count\": 1, \"max\": 178.6491870880127, \"sum\": 178.6491870880127, \"min\": 178.6491870880127}}, \"EndTime\": 1557218429.845221, \"Dimensions\": {\"Host\": \"algo-1\", \"Operation\": \"training\", \"Algorithm\": \"AWS/KMeansWebscale\"}, \"StartTime\": 1557218429.599519}\n",
      "\u001b[0m\n",
      "\u001b[31m[05/07/2019 08:40:29 INFO 140518448154432] Test data is not provided.\u001b[0m\n",
      "\u001b[31m#metrics {\"Metrics\": {\"totaltime\": {\"count\": 1, \"max\": 318.46094131469727, \"sum\": 318.46094131469727, \"min\": 318.46094131469727}, \"setuptime\": {\"count\": 1, \"max\": 19.72508430480957, \"sum\": 19.72508430480957, \"min\": 19.72508430480957}}, \"EndTime\": 1557218429.845606, \"Dimensions\": {\"Host\": \"algo-1\", \"Operation\": \"training\", \"Algorithm\": \"AWS/KMeansWebscale\"}, \"StartTime\": 1557218429.845369}\n",
      "\u001b[0m\n"
     ]
    },
    {
     "name": "stdout",
     "output_type": "stream",
     "text": [
      "\n",
      "2019-05-07 08:40:40 Completed - Training job completed\n",
      "Billable seconds: 64\n"
     ]
    }
   ],
   "source": [
    "estimator.fit({'train':training_input_config})"
   ]
  },
  {
   "cell_type": "markdown",
   "metadata": {},
   "source": [
    "# Deploy Model to Endpoint"
   ]
  },
  {
   "cell_type": "code",
   "execution_count": 82,
   "metadata": {},
   "outputs": [],
   "source": [
    "sess = sagemaker.Session()\n",
    "model = sagemaker.model.Model (\n",
    "    model_data = 's3://{}/{}/{}/output/model.tar.gz'.format(bucket, prefix, job_name), \n",
    "    image = container,\n",
    "    role = role,\n",
    "    sagemaker_session = sess)"
   ]
  },
  {
   "cell_type": "code",
   "execution_count": null,
   "metadata": {},
   "outputs": [
    {
     "name": "stderr",
     "output_type": "stream",
     "text": [
      "INFO:sagemaker:Creating model with name: kmeans-2019-05-07-11-13-09-244\n",
      "INFO:sagemaker:Creating endpoint with name kmeans-mall-v1\n"
     ]
    },
    {
     "name": "stdout",
     "output_type": "stream",
     "text": [
      "-------------------------------------------------------------------------------------------------------------------------"
     ]
    }
   ],
   "source": [
    "# Specify endpoint instance type and count\n",
    "model.deploy(initial_instance_count = 1, \n",
    "             instance_type = 'ml.t2.medium', \n",
    "             endpoint_name='kmeans-mall-v1')"
   ]
  },
  {
   "cell_type": "markdown",
   "metadata": {},
   "source": [
    "# Acquire Endpoint & Make Prediction"
   ]
  },
  {
   "cell_type": "code",
   "execution_count": 89,
   "metadata": {},
   "outputs": [],
   "source": [
    "endpoint_name = 'kmeans-mall-v1'\n",
    "predictor = sagemaker.predictor.RealTimePredictor(endpoint=endpoint_name)\n",
    "\n",
    "predictor.content_type = 'text/csv'\n",
    "predictor.serializer = csv_serializer\n",
    "predictor.deserializer = None"
   ]
  },
  {
   "cell_type": "code",
   "execution_count": 129,
   "metadata": {},
   "outputs": [],
   "source": [
    "input_features = ''\n",
    "with open('feature_list.txt','r') as f:\n",
    "    input_features = f.read().split(',')"
   ]
  },
  {
   "cell_type": "code",
   "execution_count": 140,
   "metadata": {},
   "outputs": [],
   "source": [
    "data_to_cluster = pd.read_csv('train.csv', names=input_features)"
   ]
  },
  {
   "cell_type": "code",
   "execution_count": 141,
   "metadata": {
    "scrolled": true
   },
   "outputs": [],
   "source": [
    "pred = predictor.predict(data_to_cluster.values)"
   ]
  },
  {
   "cell_type": "code",
   "execution_count": 137,
   "metadata": {},
   "outputs": [],
   "source": [
    "import json\n",
    "\n",
    "pred_parsed = pred.decode('utf-8')\n",
    "pred_parsed = json.loads(pred_parsed)"
   ]
  },
  {
   "cell_type": "code",
   "execution_count": 138,
   "metadata": {},
   "outputs": [
    {
     "data": {
      "text/plain": [
       "[{'distance_to_cluster': 1.1978631019592285, 'closest_cluster': 2.0},\n",
       " {'distance_to_cluster': 1.6218571662902832, 'closest_cluster': 2.0},\n",
       " {'distance_to_cluster': 2.0352628231048584, 'closest_cluster': 2.0},\n",
       " {'distance_to_cluster': 1.484636902809143, 'closest_cluster': 2.0},\n",
       " {'distance_to_cluster': 1.1125653982162476, 'closest_cluster': 2.0},\n",
       " {'distance_to_cluster': 1.430220127105713, 'closest_cluster': 2.0},\n",
       " {'distance_to_cluster': 1.9960898160934448, 'closest_cluster': 2.0},\n",
       " {'distance_to_cluster': 1.9587763547897339, 'closest_cluster': 2.0},\n",
       " {'distance_to_cluster': 2.079965829849243, 'closest_cluster': 2.0},\n",
       " {'distance_to_cluster': 1.2691645622253418, 'closest_cluster': 2.0},\n",
       " {'distance_to_cluster': 1.7122550010681152, 'closest_cluster': 2.0},\n",
       " {'distance_to_cluster': 2.1106014251708984, 'closest_cluster': 2.0},\n",
       " {'distance_to_cluster': 1.65875244140625, 'closest_cluster': 2.0},\n",
       " {'distance_to_cluster': 1.378390908241272, 'closest_cluster': 2.0},\n",
       " {'distance_to_cluster': 1.7239018678665161, 'closest_cluster': 2.0},\n",
       " {'distance_to_cluster': 1.437151551246643, 'closest_cluster': 2.0},\n",
       " {'distance_to_cluster': 1.0686651468276978, 'closest_cluster': 2.0},\n",
       " {'distance_to_cluster': 1.0661994218826294, 'closest_cluster': 2.0},\n",
       " {'distance_to_cluster': 1.1614049673080444, 'closest_cluster': 2.0},\n",
       " {'distance_to_cluster': 2.010200262069702, 'closest_cluster': 2.0},\n",
       " {'distance_to_cluster': 0.9763414859771729, 'closest_cluster': 2.0},\n",
       " {'distance_to_cluster': 1.1608970165252686, 'closest_cluster': 2.0},\n",
       " {'distance_to_cluster': 1.9129163026809692, 'closest_cluster': 2.0},\n",
       " {'distance_to_cluster': 1.1360349655151367, 'closest_cluster': 2.0},\n",
       " {'distance_to_cluster': 1.5464906692504883, 'closest_cluster': 2.0},\n",
       " {'distance_to_cluster': 1.3666263818740845, 'closest_cluster': 2.0},\n",
       " {'distance_to_cluster': 0.9468550086021423, 'closest_cluster': 2.0},\n",
       " {'distance_to_cluster': 0.7361788153648376, 'closest_cluster': 2.0},\n",
       " {'distance_to_cluster': 0.9531647562980652, 'closest_cluster': 2.0},\n",
       " {'distance_to_cluster': 1.5276731252670288, 'closest_cluster': 2.0},\n",
       " {'distance_to_cluster': 1.8858014345169067, 'closest_cluster': 2.0},\n",
       " {'distance_to_cluster': 1.0240846872329712, 'closest_cluster': 2.0},\n",
       " {'distance_to_cluster': 1.8563719987869263, 'closest_cluster': 2.0},\n",
       " {'distance_to_cluster': 1.6637437343597412, 'closest_cluster': 2.0},\n",
       " {'distance_to_cluster': 1.4810519218444824, 'closest_cluster': 2.0},\n",
       " {'distance_to_cluster': 1.2554988861083984, 'closest_cluster': 2.0},\n",
       " {'distance_to_cluster': 1.3585394620895386, 'closest_cluster': 2.0},\n",
       " {'distance_to_cluster': 0.9527525901794434, 'closest_cluster': 2.0},\n",
       " {'distance_to_cluster': 0.9910719394683838, 'closest_cluster': 2.0},\n",
       " {'distance_to_cluster': 0.9868650436401367, 'closest_cluster': 2.0},\n",
       " {'distance_to_cluster': 0.6472304463386536, 'closest_cluster': 2.0},\n",
       " {'distance_to_cluster': 1.6256598234176636, 'closest_cluster': 2.0},\n",
       " {'distance_to_cluster': 0.5976712107658386, 'closest_cluster': 2.0},\n",
       " {'distance_to_cluster': 0.44972676038742065, 'closest_cluster': 2.0},\n",
       " {'distance_to_cluster': 0.8970368504524231, 'closest_cluster': 2.0},\n",
       " {'distance_to_cluster': 0.5935370922088623, 'closest_cluster': 2.0},\n",
       " {'distance_to_cluster': 0.23288053274154663, 'closest_cluster': 2.0},\n",
       " {'distance_to_cluster': 0.20865048468112946, 'closest_cluster': 2.0},\n",
       " {'distance_to_cluster': 0.36716604232788086, 'closest_cluster': 2.0},\n",
       " {'distance_to_cluster': 0.36716604232788086, 'closest_cluster': 2.0},\n",
       " {'distance_to_cluster': 0.09776193648576736, 'closest_cluster': 2.0},\n",
       " {'distance_to_cluster': 0.37526634335517883, 'closest_cluster': 2.0},\n",
       " {'distance_to_cluster': 0.1401103436946869, 'closest_cluster': 2.0},\n",
       " {'distance_to_cluster': 0.3690079152584076, 'closest_cluster': 2.0},\n",
       " {'distance_to_cluster': 0.2197437882423401, 'closest_cluster': 2.0},\n",
       " {'distance_to_cluster': 0.3733542859554291, 'closest_cluster': 2.0},\n",
       " {'distance_to_cluster': 0.021922415122389793, 'closest_cluster': 2.0},\n",
       " {'distance_to_cluster': 0.17692415416240692, 'closest_cluster': 2.0},\n",
       " {'distance_to_cluster': 0.0745912566781044, 'closest_cluster': 2.0},\n",
       " {'distance_to_cluster': 0.19119422137737274, 'closest_cluster': 2.0},\n",
       " {'distance_to_cluster': 0.2234461009502411, 'closest_cluster': 2.0},\n",
       " {'distance_to_cluster': 0.1871546059846878, 'closest_cluster': 2.0},\n",
       " {'distance_to_cluster': 0.12411903589963913, 'closest_cluster': 2.0},\n",
       " {'distance_to_cluster': 0.3459981381893158, 'closest_cluster': 2.0},\n",
       " {'distance_to_cluster': 0.14990732073783875, 'closest_cluster': 2.0},\n",
       " {'distance_to_cluster': 0.36003583669662476, 'closest_cluster': 2.0},\n",
       " {'distance_to_cluster': 0.15047264099121094, 'closest_cluster': 2.0},\n",
       " {'distance_to_cluster': 0.17895333468914032, 'closest_cluster': 2.0},\n",
       " {'distance_to_cluster': 0.36003583669662476, 'closest_cluster': 2.0},\n",
       " {'distance_to_cluster': 0.2030685842037201, 'closest_cluster': 2.0},\n",
       " {'distance_to_cluster': 0.2544799745082855, 'closest_cluster': 2.0},\n",
       " {'distance_to_cluster': 0.3812316358089447, 'closest_cluster': 2.0},\n",
       " {'distance_to_cluster': 0.23321570456027985, 'closest_cluster': 2.0},\n",
       " {'distance_to_cluster': 0.30886897444725037, 'closest_cluster': 2.0},\n",
       " {'distance_to_cluster': 0.40235957503318787, 'closest_cluster': 2.0},\n",
       " {'distance_to_cluster': 0.4008796811103821, 'closest_cluster': 2.0},\n",
       " {'distance_to_cluster': 0.3896557688713074, 'closest_cluster': 2.0},\n",
       " {'distance_to_cluster': 0.39074382185935974, 'closest_cluster': 2.0},\n",
       " {'distance_to_cluster': 0.3820641338825226, 'closest_cluster': 2.0},\n",
       " {'distance_to_cluster': 0.5031591653823853, 'closest_cluster': 2.0},\n",
       " {'distance_to_cluster': 0.37832340598106384, 'closest_cluster': 2.0},\n",
       " {'distance_to_cluster': 0.4154414236545563, 'closest_cluster': 2.0},\n",
       " {'distance_to_cluster': 0.5295913219451904, 'closest_cluster': 2.0},\n",
       " {'distance_to_cluster': 0.45564907789230347, 'closest_cluster': 2.0},\n",
       " {'distance_to_cluster': 0.45322009921073914, 'closest_cluster': 2.0},\n",
       " {'distance_to_cluster': 0.4172767996788025, 'closest_cluster': 2.0},\n",
       " {'distance_to_cluster': 0.5709666013717651, 'closest_cluster': 2.0},\n",
       " {'distance_to_cluster': 0.5217818021774292, 'closest_cluster': 2.0},\n",
       " {'distance_to_cluster': 0.6449451446533203, 'closest_cluster': 2.0},\n",
       " {'distance_to_cluster': 0.5593154430389404, 'closest_cluster': 2.0},\n",
       " {'distance_to_cluster': 0.5943638682365417, 'closest_cluster': 2.0},\n",
       " {'distance_to_cluster': 0.6790757179260254, 'closest_cluster': 2.0},\n",
       " {'distance_to_cluster': 0.6099475622177124, 'closest_cluster': 2.0},\n",
       " {'distance_to_cluster': 0.7323473691940308, 'closest_cluster': 2.0},\n",
       " {'distance_to_cluster': 0.6918978691101074, 'closest_cluster': 2.0},\n",
       " {'distance_to_cluster': 0.6095297932624817, 'closest_cluster': 2.0},\n",
       " {'distance_to_cluster': 0.6224522590637207, 'closest_cluster': 2.0},\n",
       " {'distance_to_cluster': 0.6073318719863892, 'closest_cluster': 2.0},\n",
       " {'distance_to_cluster': 0.7256124019622803, 'closest_cluster': 2.0},\n",
       " {'distance_to_cluster': 0.6479402780532837, 'closest_cluster': 2.0},\n",
       " {'distance_to_cluster': 0.7775059938430786, 'closest_cluster': 2.0},\n",
       " {'distance_to_cluster': 0.6904559135437012, 'closest_cluster': 2.0},\n",
       " {'distance_to_cluster': 0.7578461766242981, 'closest_cluster': 2.0},\n",
       " {'distance_to_cluster': 0.7047269940376282, 'closest_cluster': 2.0},\n",
       " {'distance_to_cluster': 0.7152212858200073, 'closest_cluster': 2.0},\n",
       " {'distance_to_cluster': 0.7597484588623047, 'closest_cluster': 2.0},\n",
       " {'distance_to_cluster': 0.7217792272567749, 'closest_cluster': 2.0},\n",
       " {'distance_to_cluster': 0.7428235411643982, 'closest_cluster': 2.0},\n",
       " {'distance_to_cluster': 0.7788146734237671, 'closest_cluster': 2.0},\n",
       " {'distance_to_cluster': 0.7282496094703674, 'closest_cluster': 2.0},\n",
       " {'distance_to_cluster': 0.7236295938491821, 'closest_cluster': 2.0},\n",
       " {'distance_to_cluster': 0.7337378859519958, 'closest_cluster': 2.0},\n",
       " {'distance_to_cluster': 0.8290765881538391, 'closest_cluster': 2.0},\n",
       " {'distance_to_cluster': 0.7799479365348816, 'closest_cluster': 2.0},\n",
       " {'distance_to_cluster': 0.8039436340332031, 'closest_cluster': 2.0},\n",
       " {'distance_to_cluster': 0.7980871796607971, 'closest_cluster': 2.0},\n",
       " {'distance_to_cluster': 0.850017786026001, 'closest_cluster': 2.0},\n",
       " {'distance_to_cluster': 0.862511932849884, 'closest_cluster': 2.0},\n",
       " {'distance_to_cluster': 0.9220430254936218, 'closest_cluster': 2.0},\n",
       " {'distance_to_cluster': 0.9092229008674622, 'closest_cluster': 2.0},\n",
       " {'distance_to_cluster': 0.8993167877197266, 'closest_cluster': 2.0},\n",
       " {'distance_to_cluster': 0.9654309153556824, 'closest_cluster': 2.0},\n",
       " {'distance_to_cluster': 0.9934306144714355, 'closest_cluster': 2.0},\n",
       " {'distance_to_cluster': 0.7837492227554321, 'closest_cluster': 0.0},\n",
       " {'distance_to_cluster': 0.7921665906906128, 'closest_cluster': 1.0},\n",
       " {'distance_to_cluster': 0.6931244730949402, 'closest_cluster': 0.0},\n",
       " {'distance_to_cluster': 0.8978951573371887, 'closest_cluster': 1.0},\n",
       " {'distance_to_cluster': 0.8028860092163086, 'closest_cluster': 0.0},\n",
       " {'distance_to_cluster': 0.7319813370704651, 'closest_cluster': 1.0},\n",
       " {'distance_to_cluster': 0.6838887333869934, 'closest_cluster': 0.0},\n",
       " {'distance_to_cluster': 0.7691758275032043, 'closest_cluster': 1.0},\n",
       " {'distance_to_cluster': 0.6838887333869934, 'closest_cluster': 0.0},\n",
       " {'distance_to_cluster': 0.8435122966766357, 'closest_cluster': 1.0},\n",
       " {'distance_to_cluster': 0.728446900844574, 'closest_cluster': 0.0},\n",
       " {'distance_to_cluster': 0.8030207753181458, 'closest_cluster': 1.0},\n",
       " {'distance_to_cluster': 0.5964348912239075, 'closest_cluster': 0.0},\n",
       " {'distance_to_cluster': 0.7515941262245178, 'closest_cluster': 1.0},\n",
       " {'distance_to_cluster': 0.6530721187591553, 'closest_cluster': 0.0},\n",
       " {'distance_to_cluster': 0.651638925075531, 'closest_cluster': 1.0},\n",
       " {'distance_to_cluster': 0.6440457701683044, 'closest_cluster': 0.0},\n",
       " {'distance_to_cluster': 0.7495785355567932, 'closest_cluster': 1.0},\n",
       " {'distance_to_cluster': 0.6361525058746338, 'closest_cluster': 0.0},\n",
       " {'distance_to_cluster': 0.9307870268821716, 'closest_cluster': 1.0},\n",
       " {'distance_to_cluster': 0.47589313983917236, 'closest_cluster': 0.0},\n",
       " {'distance_to_cluster': 0.5133006572723389, 'closest_cluster': 1.0},\n",
       " {'distance_to_cluster': 0.7029454112052917, 'closest_cluster': 0.0},\n",
       " {'distance_to_cluster': 0.7786130905151367, 'closest_cluster': 1.0},\n",
       " {'distance_to_cluster': 0.5059731602668762, 'closest_cluster': 0.0},\n",
       " {'distance_to_cluster': 0.4049818217754364, 'closest_cluster': 1.0},\n",
       " {'distance_to_cluster': 0.4732639491558075, 'closest_cluster': 0.0},\n",
       " {'distance_to_cluster': 0.40052667260169983, 'closest_cluster': 1.0},\n",
       " {'distance_to_cluster': 0.42681676149368286, 'closest_cluster': 0.0},\n",
       " {'distance_to_cluster': 0.39183133840560913, 'closest_cluster': 1.0},\n",
       " {'distance_to_cluster': 0.4295715093612671, 'closest_cluster': 0.0},\n",
       " {'distance_to_cluster': 0.4107879102230072, 'closest_cluster': 1.0},\n",
       " {'distance_to_cluster': 0.4489639103412628, 'closest_cluster': 0.0},\n",
       " {'distance_to_cluster': 0.8095239400863647, 'closest_cluster': 1.0},\n",
       " {'distance_to_cluster': 0.39242324233055115, 'closest_cluster': 0.0},\n",
       " {'distance_to_cluster': 0.8095239400863647, 'closest_cluster': 1.0},\n",
       " {'distance_to_cluster': 0.5029330253601074, 'closest_cluster': 0.0},\n",
       " {'distance_to_cluster': 0.7054285407066345, 'closest_cluster': 1.0},\n",
       " {'distance_to_cluster': 0.3231654763221741, 'closest_cluster': 0.0},\n",
       " {'distance_to_cluster': 0.6187702417373657, 'closest_cluster': 1.0},\n",
       " {'distance_to_cluster': 0.49002349376678467, 'closest_cluster': 0.0},\n",
       " {'distance_to_cluster': 0.2893127202987671, 'closest_cluster': 1.0},\n",
       " {'distance_to_cluster': 0.28933456540107727, 'closest_cluster': 0.0},\n",
       " {'distance_to_cluster': 0.09010475873947144, 'closest_cluster': 1.0},\n",
       " {'distance_to_cluster': 0.5050367116928101, 'closest_cluster': 0.0},\n",
       " {'distance_to_cluster': 0.3040996789932251, 'closest_cluster': 1.0},\n",
       " {'distance_to_cluster': 0.7403094172477722, 'closest_cluster': 0.0},\n",
       " {'distance_to_cluster': 0.24764765799045563, 'closest_cluster': 1.0},\n",
       " {'distance_to_cluster': 0.2747361958026886, 'closest_cluster': 0.0},\n",
       " {'distance_to_cluster': 0.36265361309051514, 'closest_cluster': 1.0},\n",
       " {'distance_to_cluster': 0.386005699634552, 'closest_cluster': 0.0},\n",
       " {'distance_to_cluster': 0.2432665079832077, 'closest_cluster': 1.0},\n",
       " {'distance_to_cluster': 0.15438956022262573, 'closest_cluster': 0.0},\n",
       " {'distance_to_cluster': 0.1657036989927292, 'closest_cluster': 1.0},\n",
       " {'distance_to_cluster': 0.507706880569458, 'closest_cluster': 0.0},\n",
       " {'distance_to_cluster': 0.27343183755874634, 'closest_cluster': 1.0},\n",
       " {'distance_to_cluster': 0.3746536672115326, 'closest_cluster': 0.0},\n",
       " {'distance_to_cluster': 0.5969851016998291, 'closest_cluster': 1.0},\n",
       " {'distance_to_cluster': 0.396531879901886, 'closest_cluster': 0.0},\n",
       " {'distance_to_cluster': 0.4076891243457794, 'closest_cluster': 1.0},\n",
       " {'distance_to_cluster': 0.4651647210121155, 'closest_cluster': 0.0},\n",
       " {'distance_to_cluster': 0.8694232702255249, 'closest_cluster': 1.0},\n",
       " {'distance_to_cluster': 0.7292179465293884, 'closest_cluster': 0.0},\n",
       " {'distance_to_cluster': 0.5206866264343262, 'closest_cluster': 1.0},\n",
       " {'distance_to_cluster': 0.7530642747879028, 'closest_cluster': 0.0},\n",
       " {'distance_to_cluster': 0.5702550411224365, 'closest_cluster': 1.0},\n",
       " {'distance_to_cluster': 0.6057565212249756, 'closest_cluster': 0.0},\n",
       " {'distance_to_cluster': 0.5818413496017456, 'closest_cluster': 1.0},\n",
       " {'distance_to_cluster': 0.7818084359169006, 'closest_cluster': 0.0},\n",
       " {'distance_to_cluster': 1.0413700342178345, 'closest_cluster': 1.0},\n",
       " {'distance_to_cluster': 1.03640615940094, 'closest_cluster': 0.0},\n",
       " {'distance_to_cluster': 1.2189295291900635, 'closest_cluster': 1.0},\n",
       " {'distance_to_cluster': 1.249504804611206, 'closest_cluster': 0.0},\n",
       " {'distance_to_cluster': 1.4807312488555908, 'closest_cluster': 1.0},\n",
       " {'distance_to_cluster': 1.5057551860809326, 'closest_cluster': 0.0},\n",
       " {'distance_to_cluster': 1.8618584871292114, 'closest_cluster': 1.0},\n",
       " {'distance_to_cluster': 1.8930538892745972, 'closest_cluster': 0.0}]"
      ]
     },
     "execution_count": 138,
     "metadata": {},
     "output_type": "execute_result"
    }
   ],
   "source": [
    "pred_parsed['predictions']"
   ]
  },
  {
   "cell_type": "code",
   "execution_count": 139,
   "metadata": {},
   "outputs": [],
   "source": [
    "result_clusters = list(map(lambda x: x['closest_cluster'], pred_parsed['predictions']))"
   ]
  },
  {
   "cell_type": "markdown",
   "metadata": {},
   "source": [
    "## Get Params (specifically cluster centroids) Of The Model"
   ]
  },
  {
   "cell_type": "code",
   "execution_count": null,
   "metadata": {},
   "outputs": [],
   "source": [
    "job_name='<your_SageMaker_KMeans_job_name_here>'\n",
    "model_key = \"counties/\" + job_name + \"/output/model.tar.gz\"\n",
    "\n",
    "boto3.resource('s3').Bucket(bucket_name).download_file(model_key, 'model.tar.gz')\n",
    "os.system('tar -zxvf model.tar.gz')\n",
    "os.system('unzip model_algo-1')"
   ]
  },
  {
   "cell_type": "code",
   "execution_count": 119,
   "metadata": {
    "collapsed": true
   },
   "outputs": [
    {
     "name": "stdout",
     "output_type": "stream",
     "text": [
      "Collecting mxnet\n",
      "\u001b[?25l  Downloading https://files.pythonhosted.org/packages/f2/6d/7932788aea1293015548631495a1b44e588127fedcf4221a5dcdfa411e7b/mxnet-1.4.0.post0-py2.py3-none-manylinux1_x86_64.whl (28.4MB)\n",
      "\u001b[K    100% |████████████████████████████████| 28.4MB 1.8MB/s eta 0:00:01\n",
      "\u001b[?25hCollecting graphviz<0.9.0,>=0.8.1 (from mxnet)\n",
      "  Downloading https://files.pythonhosted.org/packages/53/39/4ab213673844e0c004bed8a0781a0721a3f6bb23eb8854ee75c236428892/graphviz-0.8.4-py2.py3-none-any.whl\n",
      "Collecting numpy<1.15.0,>=1.8.2 (from mxnet)\n",
      "\u001b[?25l  Downloading https://files.pythonhosted.org/packages/e5/c4/395ebb218053ba44d64935b3729bc88241ec279915e72100c5979db10945/numpy-1.14.6-cp36-cp36m-manylinux1_x86_64.whl (13.8MB)\n",
      "\u001b[K    100% |████████████████████████████████| 13.8MB 6.5MB/s eta 0:00:01\n",
      "\u001b[?25hRequirement already satisfied: requests>=2.20.0 in /home/ec2-user/anaconda3/envs/tensorflow_p36/lib/python3.6/site-packages (from mxnet) (2.20.1)\n",
      "Requirement already satisfied: idna<2.8,>=2.5 in /home/ec2-user/anaconda3/envs/tensorflow_p36/lib/python3.6/site-packages (from requests>=2.20.0->mxnet) (2.6)\n",
      "Requirement already satisfied: certifi>=2017.4.17 in /home/ec2-user/anaconda3/envs/tensorflow_p36/lib/python3.6/site-packages (from requests>=2.20.0->mxnet) (2019.3.9)\n",
      "Requirement already satisfied: chardet<3.1.0,>=3.0.2 in /home/ec2-user/anaconda3/envs/tensorflow_p36/lib/python3.6/site-packages (from requests>=2.20.0->mxnet) (3.0.4)\n",
      "Requirement already satisfied: urllib3<1.25,>=1.21.1 in /home/ec2-user/anaconda3/envs/tensorflow_p36/lib/python3.6/site-packages (from requests>=2.20.0->mxnet) (1.23)\n",
      "Installing collected packages: graphviz, numpy, mxnet\n",
      "  Found existing installation: numpy 1.15.4\n",
      "    Uninstalling numpy-1.15.4:\n",
      "      Successfully uninstalled numpy-1.15.4\n",
      "Successfully installed graphviz-0.8.4 mxnet-1.4.0.post0 numpy-1.14.6\n",
      "\u001b[33mYou are using pip version 10.0.1, however version 19.1 is available.\n",
      "You should consider upgrading via the 'pip install --upgrade pip' command.\u001b[0m\n"
     ]
    }
   ],
   "source": [
    "!pip install mxnet"
   ]
  },
  {
   "cell_type": "code",
   "execution_count": 120,
   "metadata": {},
   "outputs": [],
   "source": [
    "import mxnet as mx\n",
    "\n",
    "Kmeans_model_params = mx.ndarray.load('model_algo-1')"
   ]
  },
  {
   "cell_type": "code",
   "execution_count": 121,
   "metadata": {},
   "outputs": [
    {
     "data": {
      "text/plain": [
       "[\n",
       " [[ 1.0249653   1.2370576 ]\n",
       "  [ 1.0564572  -1.2010652 ]\n",
       "  [-0.6283226   0.01383363]]\n",
       " <NDArray 3x2 @cpu(0)>]"
      ]
     },
     "execution_count": 121,
     "metadata": {},
     "output_type": "execute_result"
    }
   ],
   "source": [
    "Kmeans_model_params"
   ]
  },
  {
   "cell_type": "code",
   "execution_count": 151,
   "metadata": {},
   "outputs": [],
   "source": [
    "centroids = Kmeans_model_params[0]\n",
    "centroids = list(map(lambda x: x.asnumpy(), centroids))\n",
    "centroids = list(map(lambda x: scaler.inverse_transform(x), centroids))"
   ]
  },
  {
   "cell_type": "code",
   "execution_count": null,
   "metadata": {},
   "outputs": [],
   "source": [
    "data_to_cluster['cluster'] = result_clusters"
   ]
  },
  {
   "cell_type": "code",
   "execution_count": 165,
   "metadata": {},
   "outputs": [
    {
     "data": {
      "image/png": "[encoded data removed]",
      "text/plain": [
       "<Figure size 432x288 with 1 Axes>"
      ]
     },
     "metadata": {},
     "output_type": "display_data"
    }
   ],
   "source": [
    "for i, c in enumerate(['red', 'green', 'blue']):\n",
    "    filtered = data_to_cluster[data_to_cluster['cluster'] == i]\n",
    "    plt.scatter(x=filtered['Annual Income (k$)'],\n",
    "               y=filtered['Spending Score (1-100)'],\n",
    "               c=c)"
   ]
  },
  {
   "cell_type": "code",
   "execution_count": null,
   "metadata": {},
   "outputs": [],
   "source": []
  },
  {
   "cell_type": "code",
   "execution_count": null,
   "metadata": {},
   "outputs": [],
   "source": []
  }
 ],
 "metadata": {
  "kernelspec": {
   "display_name": "conda_tensorflow_p36",
   "language": "python",
   "name": "conda_tensorflow_p36"
  },
  "language_info": {
   "codemirror_mode": {
    "name": "ipython",
    "version": 3
   },
   "file_extension": ".py",
   "mimetype": "text/x-python",
   "name": "python",
   "nbconvert_exporter": "python",
   "pygments_lexer": "ipython3",
   "version": "3.6.5"
  }
 },
 "nbformat": 4,
 "nbformat_minor": 2
}
