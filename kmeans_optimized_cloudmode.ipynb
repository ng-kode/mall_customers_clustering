{
 "cells": [
  {
   "cell_type": "code",
   "execution_count": 106,
   "metadata": {},
   "outputs": [],
   "source": [
    "bucket = 'arch-ml-bucket-us-east-1'\n",
    "prefix = 'mall_customer'\n",
    "\n",
    "# Define IAM role\n",
    "import boto3\n",
    "import re\n",
    "from sagemaker import get_execution_role\n",
    "import os\n",
    "import pandas as pd\n",
    "from sagemaker.amazon.amazon_estimator import get_image_uri\n",
    "import sagemaker\n",
    "from sagemaker.predictor import csv_serializer, json_deserializer\n",
    "import matplotlib.pyplot as plt\n",
    "import mxnet as mx\n",
    "import numpy as np\n",
    "from scipy.spatial.distance import cdist\n",
    "%matplotlib inline"
   ]
  },
  {
   "cell_type": "code",
   "execution_count": 2,
   "metadata": {},
   "outputs": [],
   "source": [
    "role = get_execution_role()"
   ]
  },
  {
   "cell_type": "markdown",
   "metadata": {},
   "source": [
    "# Data Preprocessing"
   ]
  },
  {
   "cell_type": "code",
   "execution_count": 3,
   "metadata": {},
   "outputs": [
    {
     "data": {
      "text/html": [
       "<div>\n",
       "<style scoped>\n",
       "    .dataframe tbody tr th:only-of-type {\n",
       "        vertical-align: middle;\n",
       "    }\n",
       "\n",
       "    .dataframe tbody tr th {\n",
       "        vertical-align: top;\n",
       "    }\n",
       "\n",
       "    .dataframe thead th {\n",
       "        text-align: right;\n",
       "    }\n",
       "</style>\n",
       "<table border=\"1\" class=\"dataframe\">\n",
       "  <thead>\n",
       "    <tr style=\"text-align: right;\">\n",
       "      <th></th>\n",
       "      <th>CustomerID</th>\n",
       "      <th>Genre</th>\n",
       "      <th>Age</th>\n",
       "      <th>Annual Income (k$)</th>\n",
       "      <th>Spending Score (1-100)</th>\n",
       "    </tr>\n",
       "  </thead>\n",
       "  <tbody>\n",
       "    <tr>\n",
       "      <th>0</th>\n",
       "      <td>1</td>\n",
       "      <td>Male</td>\n",
       "      <td>19</td>\n",
       "      <td>15</td>\n",
       "      <td>39</td>\n",
       "    </tr>\n",
       "    <tr>\n",
       "      <th>1</th>\n",
       "      <td>2</td>\n",
       "      <td>Male</td>\n",
       "      <td>21</td>\n",
       "      <td>15</td>\n",
       "      <td>81</td>\n",
       "    </tr>\n",
       "    <tr>\n",
       "      <th>2</th>\n",
       "      <td>3</td>\n",
       "      <td>Female</td>\n",
       "      <td>20</td>\n",
       "      <td>16</td>\n",
       "      <td>6</td>\n",
       "    </tr>\n",
       "    <tr>\n",
       "      <th>3</th>\n",
       "      <td>4</td>\n",
       "      <td>Female</td>\n",
       "      <td>23</td>\n",
       "      <td>16</td>\n",
       "      <td>77</td>\n",
       "    </tr>\n",
       "    <tr>\n",
       "      <th>4</th>\n",
       "      <td>5</td>\n",
       "      <td>Female</td>\n",
       "      <td>31</td>\n",
       "      <td>17</td>\n",
       "      <td>40</td>\n",
       "    </tr>\n",
       "  </tbody>\n",
       "</table>\n",
       "</div>"
      ],
      "text/plain": [
       "   CustomerID   Genre  Age  Annual Income (k$)  Spending Score (1-100)\n",
       "0           1    Male   19                  15                      39\n",
       "1           2    Male   21                  15                      81\n",
       "2           3  Female   20                  16                       6\n",
       "3           4  Female   23                  16                      77\n",
       "4           5  Female   31                  17                      40"
      ]
     },
     "execution_count": 3,
     "metadata": {},
     "output_type": "execute_result"
    }
   ],
   "source": [
    "df = pd.read_csv('Mall_Customers.csv')\n",
    "df.head()"
   ]
  },
  {
   "cell_type": "code",
   "execution_count": 4,
   "metadata": {},
   "outputs": [
    {
     "data": {
      "text/plain": [
       "(200, 5)"
      ]
     },
     "execution_count": 4,
     "metadata": {},
     "output_type": "execute_result"
    }
   ],
   "source": [
    "df.shape"
   ]
  },
  {
   "cell_type": "code",
   "execution_count": 5,
   "metadata": {},
   "outputs": [],
   "source": [
    "features = ['Annual Income (k$)', 'Spending Score (1-100)']\n",
    "train_df = df[features]"
   ]
  },
  {
   "cell_type": "code",
   "execution_count": 6,
   "metadata": {},
   "outputs": [],
   "source": [
    "from sklearn.preprocessing import StandardScaler\n",
    "\n",
    "scaler = StandardScaler()\n",
    "train_df = scaler.fit_transform(train_df)\n",
    "train_df = pd.DataFrame(data=train_df, columns=features)\n",
    "train_df = train_df.astype('float32')"
   ]
  },
  {
   "cell_type": "code",
   "execution_count": 7,
   "metadata": {},
   "outputs": [],
   "source": [
    "train_df.to_csv('train.csv', header=False, index=False)"
   ]
  },
  {
   "cell_type": "code",
   "execution_count": 8,
   "metadata": {},
   "outputs": [],
   "source": [
    "# Write Column List\n",
    "\n",
    "with open('feature_list.txt','w') as f:\n",
    "    f.write(','.join(features))"
   ]
  },
  {
   "cell_type": "code",
   "execution_count": 9,
   "metadata": {},
   "outputs": [],
   "source": [
    "import pickle\n",
    "\n",
    "with open('scaler.pkl', 'wb') as f:\n",
    "    pickle.dump(obj=scaler, file=f)    "
   ]
  },
  {
   "cell_type": "markdown",
   "metadata": {},
   "source": [
    "# Upload data to S3"
   ]
  },
  {
   "cell_type": "code",
   "execution_count": 10,
   "metadata": {},
   "outputs": [],
   "source": [
    "def write_to_s3(filename):\n",
    "    with open(filename,'rb') as f: # Read in binary mode\n",
    "        return boto3.Session().resource('s3').Bucket(bucket)\\\n",
    "            .Object(os.path.join(prefix, filename)).upload_fileobj(f)"
   ]
  },
  {
   "cell_type": "code",
   "execution_count": 11,
   "metadata": {},
   "outputs": [],
   "source": [
    "write_to_s3('train.csv')"
   ]
  },
  {
   "cell_type": "markdown",
   "metadata": {},
   "source": [
    "# Train"
   ]
  },
  {
   "cell_type": "code",
   "execution_count": 12,
   "metadata": {},
   "outputs": [],
   "source": [
    "container = get_image_uri(boto3.Session().region_name, 'kmeans')"
   ]
  },
  {
   "cell_type": "code",
   "execution_count": 13,
   "metadata": {},
   "outputs": [
    {
     "data": {
      "text/plain": [
       "'382416733822.dkr.ecr.us-east-1.amazonaws.com/kmeans:1'"
      ]
     },
     "execution_count": 13,
     "metadata": {},
     "output_type": "execute_result"
    }
   ],
   "source": [
    "container"
   ]
  },
  {
   "cell_type": "code",
   "execution_count": 14,
   "metadata": {},
   "outputs": [
    {
     "name": "stderr",
     "output_type": "stream",
     "text": [
      "INFO:sagemaker:Creating training-job with name: kmeans-mall-v2-clusters-2-2019-05-07-14-56-10-137\n"
     ]
    },
    {
     "name": "stdout",
     "output_type": "stream",
     "text": [
      "starting train job:2\n",
      "training artifacts will be uploaded to: s3://arch-ml-bucket-us-east-1/mall_customer\n"
     ]
    },
    {
     "name": "stderr",
     "output_type": "stream",
     "text": [
      "INFO:sagemaker:Creating training-job with name: kmeans-mall-v2-clusters-3-2019-05-07-14-56-10-504\n"
     ]
    },
    {
     "name": "stdout",
     "output_type": "stream",
     "text": [
      "InProgress\n",
      "starting train job:3\n",
      "training artifacts will be uploaded to: s3://arch-ml-bucket-us-east-1/mall_customer\n"
     ]
    },
    {
     "name": "stderr",
     "output_type": "stream",
     "text": [
      "INFO:sagemaker:Creating training-job with name: kmeans-mall-v2-clusters-4-2019-05-07-14-56-10-825\n"
     ]
    },
    {
     "name": "stdout",
     "output_type": "stream",
     "text": [
      "InProgress\n",
      "starting train job:4\n",
      "training artifacts will be uploaded to: s3://arch-ml-bucket-us-east-1/mall_customer\n"
     ]
    },
    {
     "name": "stderr",
     "output_type": "stream",
     "text": [
      "INFO:sagemaker:Creating training-job with name: kmeans-mall-v2-clusters-5-2019-05-07-14-56-20-892\n"
     ]
    },
    {
     "name": "stdout",
     "output_type": "stream",
     "text": [
      "InProgress\n",
      "starting train job:5\n",
      "training artifacts will be uploaded to: s3://arch-ml-bucket-us-east-1/mall_customer\n"
     ]
    },
    {
     "name": "stderr",
     "output_type": "stream",
     "text": [
      "INFO:sagemaker:Creating training-job with name: kmeans-mall-v2-clusters-6-2019-05-07-14-56-21-228\n"
     ]
    },
    {
     "name": "stdout",
     "output_type": "stream",
     "text": [
      "InProgress\n",
      "starting train job:6\n",
      "training artifacts will be uploaded to: s3://arch-ml-bucket-us-east-1/mall_customer\n"
     ]
    },
    {
     "name": "stderr",
     "output_type": "stream",
     "text": [
      "INFO:sagemaker:Creating training-job with name: kmeans-mall-v2-clusters-7-2019-05-07-14-56-21-526\n"
     ]
    },
    {
     "name": "stdout",
     "output_type": "stream",
     "text": [
      "InProgress\n",
      "starting train job:7\n",
      "training artifacts will be uploaded to: s3://arch-ml-bucket-us-east-1/mall_customer\n"
     ]
    },
    {
     "name": "stderr",
     "output_type": "stream",
     "text": [
      "INFO:sagemaker:Creating training-job with name: kmeans-mall-v2-clusters-8-2019-05-07-14-56-22-712\n"
     ]
    },
    {
     "name": "stdout",
     "output_type": "stream",
     "text": [
      "InProgress\n",
      "starting train job:8\n",
      "training artifacts will be uploaded to: s3://arch-ml-bucket-us-east-1/mall_customer\n"
     ]
    },
    {
     "name": "stderr",
     "output_type": "stream",
     "text": [
      "INFO:sagemaker:Creating training-job with name: kmeans-mall-v2-clusters-9-2019-05-07-14-56-23-114\n"
     ]
    },
    {
     "name": "stdout",
     "output_type": "stream",
     "text": [
      "InProgress\n",
      "starting train job:9\n",
      "training artifacts will be uploaded to: s3://arch-ml-bucket-us-east-1/mall_customer\n"
     ]
    },
    {
     "name": "stderr",
     "output_type": "stream",
     "text": [
      "INFO:sagemaker:Creating training-job with name: kmeans-mall-v2-clusters-10-2019-05-07-14-56-23-410\n"
     ]
    },
    {
     "name": "stdout",
     "output_type": "stream",
     "text": [
      "InProgress\n",
      "starting train job:10\n",
      "training artifacts will be uploaded to: s3://arch-ml-bucket-us-east-1/mall_customer\n"
     ]
    },
    {
     "name": "stderr",
     "output_type": "stream",
     "text": [
      "INFO:sagemaker:Creating training-job with name: kmeans-mall-v2-clusters-11-2019-05-07-14-56-30-307\n"
     ]
    },
    {
     "name": "stdout",
     "output_type": "stream",
     "text": [
      "InProgress\n",
      "starting train job:11\n",
      "training artifacts will be uploaded to: s3://arch-ml-bucket-us-east-1/mall_customer\n",
      "InProgress\n"
     ]
    }
   ],
   "source": [
    "# https://aws.amazon.com/blogs/machine-learning/k-means-clustering-with-amazon-sagemaker/\n",
    "\n",
    "K = range(2, 12) # start from '1 cluster' does not make sense\n",
    "INSTANCE_COUNT = 1\n",
    "run_parallel_jobs = True\n",
    "instance_type = 'ml.m4.xlarge'\n",
    "feature_dim = 2\n",
    "job_names = []\n",
    "base_job_name = 'kmeans-mall-v2'\n",
    "train_data_path = 's3://{}/{}/{}'.format(bucket, prefix, 'train.csv')\n",
    "\n",
    "for k in K:\n",
    "    print('starting train job:' + str(k))\n",
    "\n",
    "    output_path = 's3://{}/{}/{}'.format(bucket, prefix, base_job_name)    \n",
    "    print('training artifacts will be uploaded to: {}'.format(output_path))    \n",
    "    \n",
    "    base_j_name = '{}-clusters-{}'.format(k, base_job_name)\n",
    "    sess = sagemaker.Session()    \n",
    "    estimator = sagemaker.estimator.Estimator(container,\n",
    "                                              role, \n",
    "                                              train_instance_count=INSTANCE_COUNT, \n",
    "                                              train_instance_type=instance_type,\n",
    "                                              output_path=output_path,\n",
    "                                              sagemaker_session=sess,\n",
    "                                              base_job_name=base_j_name)\n",
    "\n",
    "    estimator.set_hyperparameters(k=k, feature_dim=feature_dim)\n",
    "\n",
    "    s3_data = train_data_path\n",
    "    training_input_config = sagemaker.session.s3_input(s3_data=s3_data, content_type=\"text/csv;label_size=0\")\n",
    "\n",
    "    estimator.fit({'train':training_input_config}, wait=False)\n",
    "    \n",
    "    boto3_sagemaker = boto3.client('sagemaker')\n",
    "    job_name = estimator.latest_training_job.name\n",
    "    \n",
    "    status = boto3_sagemaker.describe_training_job(TrainingJobName=job_name)['TrainingJobStatus']\n",
    "    print(status)\n",
    "    \n",
    "    if not run_parallel_jobs:\n",
    "        try:\n",
    "            boto3_sagemaker.get_waiter('training_job_completed_or_stopped').wait(TrainingJobName=job_name)\n",
    "        finally:\n",
    "            status = boto3_sagemaker.describe_training_job(TrainingJobName=job_name)['TrainingJobStatus']\n",
    "            print(\"Training job ended with status: \" + status)\n",
    "            if status == 'Failed':\n",
    "                message = boto3_sagemaker.describe_training_job(TrainingJobName=job_name)['FailureReason']\n",
    "                print('Training failed with the following error: {}'.format(message))\n",
    "                raise Exception('Training job failed')\n",
    "    \n",
    "    job_names.append(job_name)"
   ]
  },
  {
   "cell_type": "code",
   "execution_count": null,
   "metadata": {},
   "outputs": [],
   "source": [
    "while len(job_names):\n",
    "    boto3_sagemaker = boto3.client('sagemaker')\n",
    "    try:\n",
    "        boto3_sagemaker.get_waiter('training_job_completed_or_stopped').wait(TrainingJobName=job_names[0])\n",
    "    finally:\n",
    "        status = boto3_sagemaker.describe_training_job(TrainingJobName=job_name)['TrainingJobStatus']\n",
    "        print(\"Training job ended with status: \" + status)\n",
    "        if status == 'Failed':\n",
    "            message = boto3_sagemaker.describe_training_job(TrainingJobName=job_name)['FailureReason']\n",
    "            print('Training failed with the following error: {}'.format(message))\n",
    "            raise Exception('Training job failed')\n",
    "\n",
    "    print(job_name)\n",
    "\n",
    "    info = boto3_sagemaker.describe_training_job(TrainingJobName=job_name)\n",
    "    job_names.pop(0)"
   ]
  },
  {
   "cell_type": "code",
   "execution_count": 65,
   "metadata": {},
   "outputs": [],
   "source": [
    "def list_s3_items_keys():\n",
    "    client = boto3.client('s3')\n",
    "    items = client.list_objects(Bucket=bucket, Prefix=prefix)['Contents']\n",
    "    return list(map(lambda x: x['Key'], items))"
   ]
  },
  {
   "cell_type": "code",
   "execution_count": 98,
   "metadata": {},
   "outputs": [],
   "source": [
    "def filter_model_keys():\n",
    "    keys = list_s3_items_keys()\n",
    "    \n",
    "    filtered = []\n",
    "    for key in keys:\n",
    "        path = key.replace(prefix + '/', '')\n",
    "        if path.startswith(base_job_name):\n",
    "            filtered.append(key)\n",
    "        \n",
    "    return filtered"
   ]
  },
  {
   "cell_type": "code",
   "execution_count": 109,
   "metadata": {},
   "outputs": [
    {
     "name": "stdout",
     "output_type": "stream",
     "text": [
      "Model for k=2 (mall_customer/kmeans-mall-v2-clusters-2-2019-05-07-14-56-10-137/output/model.tar.gz)\n",
      "model_algo-1\n",
      "state_7803ff0f-30e3-4726-9616-65b6d0fbbadf\n",
      "Model for k=3 (mall_customer/kmeans-mall-v2-clusters-3-2019-05-07-14-56-10-504/output/model.tar.gz)\n",
      "state_06c80c92-da0e-4010-a8ad-09f33aa77705\n",
      "model_algo-1\n",
      "Model for k=4 (mall_customer/kmeans-mall-v2-clusters-4-2019-05-07-14-56-10-825/output/model.tar.gz)\n",
      "state_b890e518-57a1-4387-aec3-b5ebffc23563\n",
      "model_algo-1\n",
      "Model for k=5 (mall_customer/kmeans-mall-v2-clusters-5-2019-05-07-14-56-20-892/output/model.tar.gz)\n",
      "state_28b8a004-e1eb-4e2b-aa05-ae75ad704785\n",
      "model_algo-1\n",
      "Model for k=6 (mall_customer/kmeans-mall-v2-clusters-6-2019-05-07-14-56-21-228/output/model.tar.gz)\n",
      "model_algo-1\n",
      "state_a7f1de59-6d4e-464f-95b2-6887526c1030\n",
      "Model for k=7 (mall_customer/kmeans-mall-v2-clusters-7-2019-05-07-14-56-21-526/output/model.tar.gz)\n",
      "model_algo-1\n",
      "state_dd54e656-281b-46ea-975e-0dab7da0c286\n",
      "Model for k=8 (mall_customer/kmeans-mall-v2-clusters-8-2019-05-07-14-56-22-712/output/model.tar.gz)\n",
      "state_c7add414-39ab-4cbc-ae01-ebbee17f9995\n",
      "model_algo-1\n",
      "Model for k=9 (mall_customer/kmeans-mall-v2-clusters-9-2019-05-07-14-56-23-114/output/model.tar.gz)\n",
      "state_6341de82-b278-48bb-bc05-564944370eb8\n",
      "model_algo-1\n",
      "Model for k=10 (mall_customer/kmeans-mall-v2-clusters-10-2019-05-07-14-56-23-410/output/model.tar.gz)\n",
      "model_algo-1\n",
      "state_d3601fa7-73c7-415c-ba80-39d24412021c\n",
      "Model for k=11 (mall_customer/kmeans-mall-v2-clusters-11-2019-05-07-14-56-30-307/output/model.tar.gz)\n",
      "state_1b60f1ae-6e25-404b-b13b-e69ede1327ea\n",
      "model_algo-1\n"
     ]
    },
    {
     "data": {
      "text/plain": [
       "Text(0.5,0,'k')"
      ]
     },
     "execution_count": 109,
     "metadata": {},
     "output_type": "execute_result"
    },
    {
     "data": {
      "image/png": "[encoded data removed]",
      "text/plain": [
       "<Figure size 432x288 with 1 Axes>"
      ]
     },
     "metadata": {},
     "output_type": "display_data"
    }
   ],
   "source": [
    "plt.plot()\n",
    "colors = ['b', 'g', 'r']\n",
    "markers = ['o', 'v', 's']\n",
    "models = {}\n",
    "distortions = []\n",
    "for i, folder in enumerate([\\\n",
    "    'mall_customer/kmeans-mall-v2-clusters-2-2019-05-07-14-56-10-137',\n",
    "    'mall_customer/kmeans-mall-v2-clusters-3-2019-05-07-14-56-10-504',\n",
    "    'mall_customer/kmeans-mall-v2-clusters-4-2019-05-07-14-56-10-825',\n",
    "    'mall_customer/kmeans-mall-v2-clusters-5-2019-05-07-14-56-20-892',\n",
    "    'mall_customer/kmeans-mall-v2-clusters-6-2019-05-07-14-56-21-228',\n",
    "    'mall_customer/kmeans-mall-v2-clusters-7-2019-05-07-14-56-21-526',\n",
    "    'mall_customer/kmeans-mall-v2-clusters-8-2019-05-07-14-56-22-712',\n",
    "    'mall_customer/kmeans-mall-v2-clusters-9-2019-05-07-14-56-23-114',\n",
    "    'mall_customer/kmeans-mall-v2-clusters-10-2019-05-07-14-56-23-410',\n",
    "    'mall_customer/kmeans-mall-v2-clusters-11-2019-05-07-14-56-30-307',\n",
    "]):\n",
    "    k = i + 2\n",
    "    s3_client = boto3.client('s3')\n",
    "    key = folder + '/output/model.tar.gz'\n",
    "    s3_client.download_file(bucket, key, 'model.tar.gz')\n",
    "    print(\"Model for k={} ({})\".format(k, key))\n",
    "    !tar -xvf model.tar.gz                       \n",
    "    kmeans_model=mx.ndarray.load('model_algo-1')\n",
    "    kmeans_numpy = kmeans_model[0].asnumpy()\n",
    "    distortions.append(sum(np.min(cdist(train_df, kmeans_numpy, 'euclidean'), axis=1)) / train_df.shape[0])\n",
    "    models[k] = kmeans_numpy\n",
    "    \n",
    "# Plot the elbow\n",
    "plt.plot(K, distortions, 'bx-')\n",
    "plt.xlabel('k')"
   ]
  },
  {
   "cell_type": "markdown",
   "metadata": {},
   "source": [
    "# So the optimal number of clusters = 5\n",
    "\n",
    "### we can then deploy that specific model to endpoint for future predictions (i.e. clustering)"
   ]
  },
  {
   "cell_type": "code",
   "execution_count": null,
   "metadata": {},
   "outputs": [],
   "source": []
  }
 ],
 "metadata": {
  "kernelspec": {
   "display_name": "conda_tensorflow_p36",
   "language": "python",
   "name": "conda_tensorflow_p36"
  },
  "language_info": {
   "codemirror_mode": {
    "name": "ipython",
    "version": 3
   },
   "file_extension": ".py",
   "mimetype": "text/x-python",
   "name": "python",
   "nbconvert_exporter": "python",
   "pygments_lexer": "ipython3",
   "version": "3.6.5"
  }
 },
 "nbformat": 4,
 "nbformat_minor": 2
}
