{
 "cells": [
  {
   "cell_type": "code",
   "execution_count": 26,
   "metadata": {},
   "outputs": [],
   "source": [
    "import pickle\n",
    "import pandas as pd\n",
    "import matplotlib.pyplot as plt\n",
    "import boto3\n",
    "from sagemaker import get_execution_role\n",
    "import sagemaker\n",
    "%matplotlib inline"
   ]
  },
  {
   "cell_type": "code",
   "execution_count": 30,
   "metadata": {},
   "outputs": [],
   "source": [
    "bucket = 'arch-ml-bucket-us-east-1'\n",
    "role = get_execution_role()\n",
    "\n",
    "with open('centroids.optimal.pkl', 'rb') as f:\n",
    "    centroids = pickle.load(f)\n",
    "    \n",
    "with open('model_info.optimal.txt', 'r') as f:\n",
    "    [model_key, image_name] = f.read().split('\\n')\n",
    "    \n",
    "with open('feature_list.txt', 'r') as f:\n",
    "    features = f.read()\n",
    "    features = features.split(',')\n",
    "    \n",
    "with open('scaler.pkl', 'rb') as f:\n",
    "    scaler = pickle.load(file=f)\n",
    "    \n",
    "data_to_cluster = pd.read_csv('Mall_Customers.csv')\n",
    "\n",
    "def get_model(model_key, image_name):\n",
    "    sess = sagemaker.Session()\n",
    "    model = sagemaker.model.Model (\n",
    "        model_data = 's3://{}/{}'.format(bucket, model_key),\n",
    "        image = image_name,\n",
    "        role = role,\n",
    "        sagemaker_session = sess)\n",
    "    return model\n",
    "\n",
    "model = get_model(model_key, image_name)"
   ]
  },
  {
   "cell_type": "markdown",
   "metadata": {},
   "source": [
    "# Explore Customer Segments"
   ]
  },
  {
   "cell_type": "code",
   "execution_count": 10,
   "metadata": {},
   "outputs": [
    {
     "name": "stdout",
     "output_type": "stream",
     "text": [
      "            Customer Segments\n",
      "\n",
      "   Annual Income (k$)  Spending Score (1-100)\n",
      "0           85.530609               81.877548\n",
      "1           53.867348               50.438774\n",
      "2           87.065216               18.260872\n",
      "3           25.037035               79.074074\n",
      "4           26.133333               19.133335\n"
     ]
    }
   ],
   "source": [
    "cluster_df = pd.DataFrame(\n",
    "    columns=features,\n",
    "    data=list(map(lambda c: scaler.inverse_transform(c), centroids))\n",
    ")\n",
    "\n",
    "print('            Customer Segments\\n')\n",
    "print(cluster_df)"
   ]
  },
  {
   "cell_type": "markdown",
   "metadata": {},
   "source": [
    "# Cluster The Data (Predict)"
   ]
  },
  {
   "cell_type": "code",
   "execution_count": 32,
   "metadata": {},
   "outputs": [
    {
     "name": "stderr",
     "output_type": "stream",
     "text": [
      "INFO:sagemaker:Creating model with name: kmeans-2019-05-08-07-10-27-393\n",
      "INFO:sagemaker:Creating endpoint with name kmeans-mall-v2\n"
     ]
    },
    {
     "name": "stdout",
     "output_type": "stream",
     "text": [
      "---------------------------------------------------------------------------------------------------------------------------!"
     ]
    }
   ],
   "source": [
    "# Deploy Model To Endpoint\n",
    "endpoint_name = 'kmeans-mall-v2'\n",
    "model.deploy(initial_instance_count = 1, \n",
    "             instance_type = 'ml.t2.medium', \n",
    "             endpoint_name=endpoint_name)"
   ]
  },
  {
   "cell_type": "code",
   "execution_count": 34,
   "metadata": {},
   "outputs": [],
   "source": [
    "from sagemaker.predictor import csv_serializer, json_deserializer\n",
    "\n",
    "# Acquire endpoint to make prediction\n",
    "predictor = sagemaker.predictor.RealTimePredictor(endpoint=endpoint_name)\n",
    "\n",
    "predictor.content_type = 'text/csv'\n",
    "predictor.serializer = csv_serializer\n",
    "predictor.deserializer = None"
   ]
  },
  {
   "cell_type": "code",
   "execution_count": 56,
   "metadata": {},
   "outputs": [],
   "source": [
    "import json\n",
    "\n",
    "preds = predictor.predict(scaler.transform(data_to_cluster[features]))\n",
    "preds = preds.decode('utf-8')\n",
    "preds = json.loads(preds)['predictions']"
   ]
  },
  {
   "cell_type": "code",
   "execution_count": 58,
   "metadata": {},
   "outputs": [],
   "source": [
    "data_to_cluster['cluster'] = list(map(lambda x: x['closest_cluster'], preds))"
   ]
  },
  {
   "cell_type": "code",
   "execution_count": 63,
   "metadata": {},
   "outputs": [
    {
     "data": {
      "text/plain": [
       "<matplotlib.collections.PathCollection at 0x7fc012669320>"
      ]
     },
     "execution_count": 63,
     "metadata": {},
     "output_type": "execute_result"
    },
    {
     "data": {
      "image/png": "[encoded data removed]",
      "text/plain": [
       "<Figure size 432x288 with 1 Axes>"
      ]
     },
     "metadata": {},
     "output_type": "display_data"
    }
   ],
   "source": [
    "for i, c in enumerate(['red', 'orange', 'green', 'blue', 'purple']):\n",
    "    filtered = data_to_cluster[data_to_cluster['cluster'] == i]\n",
    "    plt.scatter(x=filtered[features[0]],\n",
    "               y=filtered[features[1]],\n",
    "               c=c)\n",
    "    \n",
    "plt.scatter(\n",
    "    list(map(lambda c: c[0], scaler.inverse_transform(centroids))), \n",
    "    list(map(lambda c: c[1], scaler.inverse_transform(centroids))), \n",
    "            s = 300, c = 'yellow', label = 'Centroids')"
   ]
  },
  {
   "cell_type": "markdown",
   "metadata": {},
   "source": [
    "# Delete the endpoint after use"
   ]
  },
  {
   "cell_type": "code",
   "execution_count": 64,
   "metadata": {},
   "outputs": [
    {
     "name": "stderr",
     "output_type": "stream",
     "text": [
      "INFO:sagemaker:Deleting endpoint with name: kmeans-mall-v2\n"
     ]
    }
   ],
   "source": [
    "predictor.delete_endpoint(delete_endpoint_config=False)"
   ]
  },
  {
   "cell_type": "code",
   "execution_count": null,
   "metadata": {},
   "outputs": [],
   "source": []
  }
 ],
 "metadata": {
  "kernelspec": {
   "display_name": "conda_tensorflow_p36",
   "language": "python",
   "name": "conda_tensorflow_p36"
  },
  "language_info": {
   "codemirror_mode": {
    "name": "ipython",
    "version": 3
   },
   "file_extension": ".py",
   "mimetype": "text/x-python",
   "name": "python",
   "nbconvert_exporter": "python",
   "pygments_lexer": "ipython3",
   "version": "3.6.5"
  }
 },
 "nbformat": 4,
 "nbformat_minor": 2
}
